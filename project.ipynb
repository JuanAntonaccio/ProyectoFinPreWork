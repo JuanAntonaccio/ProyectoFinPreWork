{
 "cells": [
  {
   "cell_type": "markdown",
   "id": "c4e52ee5",
   "metadata": {},
   "source": [
    "## The dataset\n",
    "\n",
    "This is a real dataset and it was downloaded using web scraping techniques. The data contains registers from fotocasa which is one of the most popular websites of real estate in Spain. Please, do not do this (web scraping) unless it is for academic purposes.\n",
    "\n",
    "The dataset was downloaded a few years ago by Henry Navarro and In no case were economic returns obtained from it.\n",
    "\n",
    "It contains thousands of data from real homes published on the web www.fotocasa.com. Your goal is to extract as much information as possible with the knowledge you have so far about data science, for example what is the most expensive home in the entire dataset?\n",
    "\n",
    "Let's start with precisely that question... Good luck!\n"
   ]
  },
  {
   "cell_type": "markdown",
   "id": "dd97255d",
   "metadata": {},
   "source": [
    "#### Read the dataset assets/real_estate.csv and try to visualize the table (★☆☆)"
   ]
  },
  {
   "cell_type": "code",
   "execution_count": 1,
   "id": "4b93d9c8",
   "metadata": {},
   "outputs": [],
   "source": [
    "import numpy as np\n",
    "import pandas as pd"
   ]
  },
  {
   "cell_type": "markdown",
   "id": "40631cd6",
   "metadata": {},
   "source": [
    "#### What is the most expensive home in the dataset? (★☆☆)"
   ]
  },
  {
   "cell_type": "code",
   "execution_count": 2,
   "id": "8a758bcf",
   "metadata": {},
   "outputs": [
    {
     "data": {
      "text/html": [
       "<div>\n",
       "<style scoped>\n",
       "    .dataframe tbody tr th:only-of-type {\n",
       "        vertical-align: middle;\n",
       "    }\n",
       "\n",
       "    .dataframe tbody tr th {\n",
       "        vertical-align: top;\n",
       "    }\n",
       "\n",
       "    .dataframe thead th {\n",
       "        text-align: right;\n",
       "    }\n",
       "</style>\n",
       "<table border=\"1\" class=\"dataframe\">\n",
       "  <thead>\n",
       "    <tr style=\"text-align: right;\">\n",
       "      <th></th>\n",
       "      <th>id_realEstates</th>\n",
       "      <th>isNew</th>\n",
       "      <th>realEstate_name</th>\n",
       "      <th>phone_realEstate</th>\n",
       "      <th>url_inmueble</th>\n",
       "      <th>rooms</th>\n",
       "      <th>bathrooms</th>\n",
       "      <th>surface</th>\n",
       "      <th>price</th>\n",
       "      <th>date</th>\n",
       "      <th>...</th>\n",
       "      <th>level4Id</th>\n",
       "      <th>level5Id</th>\n",
       "      <th>level6Id</th>\n",
       "      <th>level7Id</th>\n",
       "      <th>level8Id</th>\n",
       "      <th>accuracy</th>\n",
       "      <th>latitude</th>\n",
       "      <th>longitude</th>\n",
       "      <th>zipCode</th>\n",
       "      <th>customZone</th>\n",
       "    </tr>\n",
       "  </thead>\n",
       "  <tbody>\n",
       "    <tr>\n",
       "      <th>1</th>\n",
       "      <td>153771986</td>\n",
       "      <td>False</td>\n",
       "      <td>ferrari 57 inmobiliaria</td>\n",
       "      <td>912177526.0</td>\n",
       "      <td>https://www.fotocasa.es/es/comprar/vivienda/ma...</td>\n",
       "      <td>3.0</td>\n",
       "      <td>2.0</td>\n",
       "      <td>103.0</td>\n",
       "      <td>195000</td>\n",
       "      <td>2019-12-28T18:27:15.9975027Z</td>\n",
       "      <td>...</td>\n",
       "      <td>0</td>\n",
       "      <td>0</td>\n",
       "      <td>0</td>\n",
       "      <td>0</td>\n",
       "      <td>0</td>\n",
       "      <td>0</td>\n",
       "      <td>40,2948276786438</td>\n",
       "      <td>-3,44402412135624</td>\n",
       "      <td>NaN</td>\n",
       "      <td>NaN</td>\n",
       "    </tr>\n",
       "    <tr>\n",
       "      <th>2</th>\n",
       "      <td>153867863</td>\n",
       "      <td>False</td>\n",
       "      <td>tecnocasa fuenlabrada ferrocarril</td>\n",
       "      <td>916358736.0</td>\n",
       "      <td>https://www.fotocasa.es/es/comprar/vivienda/ma...</td>\n",
       "      <td>3.0</td>\n",
       "      <td>1.0</td>\n",
       "      <td>NaN</td>\n",
       "      <td>89000</td>\n",
       "      <td>2019-12-28T18:27:15.9975027Z</td>\n",
       "      <td>...</td>\n",
       "      <td>0</td>\n",
       "      <td>0</td>\n",
       "      <td>0</td>\n",
       "      <td>0</td>\n",
       "      <td>0</td>\n",
       "      <td>1</td>\n",
       "      <td>40,28674</td>\n",
       "      <td>-3,79351</td>\n",
       "      <td>NaN</td>\n",
       "      <td>NaN</td>\n",
       "    </tr>\n",
       "    <tr>\n",
       "      <th>3</th>\n",
       "      <td>153430440</td>\n",
       "      <td>False</td>\n",
       "      <td>look find boadilla</td>\n",
       "      <td>916350408.0</td>\n",
       "      <td>https://www.fotocasa.es/es/comprar/vivienda/ma...</td>\n",
       "      <td>2.0</td>\n",
       "      <td>2.0</td>\n",
       "      <td>99.0</td>\n",
       "      <td>390000</td>\n",
       "      <td>2019-12-28T18:27:15.9975027Z</td>\n",
       "      <td>...</td>\n",
       "      <td>0</td>\n",
       "      <td>0</td>\n",
       "      <td>0</td>\n",
       "      <td>0</td>\n",
       "      <td>0</td>\n",
       "      <td>0</td>\n",
       "      <td>40,4115646786438</td>\n",
       "      <td>-3,90662252135624</td>\n",
       "      <td>NaN</td>\n",
       "      <td>NaN</td>\n",
       "    </tr>\n",
       "    <tr>\n",
       "      <th>4</th>\n",
       "      <td>152776331</td>\n",
       "      <td>False</td>\n",
       "      <td>tecnocasa fuenlabrada ferrocarril</td>\n",
       "      <td>916358736.0</td>\n",
       "      <td>https://www.fotocasa.es/es/comprar/vivienda/ma...</td>\n",
       "      <td>3.0</td>\n",
       "      <td>1.0</td>\n",
       "      <td>86.0</td>\n",
       "      <td>89000</td>\n",
       "      <td>2019-12-28T18:27:15.9975027Z</td>\n",
       "      <td>...</td>\n",
       "      <td>0</td>\n",
       "      <td>0</td>\n",
       "      <td>0</td>\n",
       "      <td>0</td>\n",
       "      <td>0</td>\n",
       "      <td>0</td>\n",
       "      <td>40,2853785786438</td>\n",
       "      <td>-3,79508142135624</td>\n",
       "      <td>NaN</td>\n",
       "      <td>NaN</td>\n",
       "    </tr>\n",
       "    <tr>\n",
       "      <th>5</th>\n",
       "      <td>153180188</td>\n",
       "      <td>False</td>\n",
       "      <td>ferrari 57 inmobiliaria</td>\n",
       "      <td>912177526.0</td>\n",
       "      <td>https://www.fotocasa.es/es/comprar/vivienda/ma...</td>\n",
       "      <td>2.0</td>\n",
       "      <td>2.0</td>\n",
       "      <td>106.0</td>\n",
       "      <td>172000</td>\n",
       "      <td>2019-12-28T18:27:15.9975027Z</td>\n",
       "      <td>...</td>\n",
       "      <td>0</td>\n",
       "      <td>0</td>\n",
       "      <td>0</td>\n",
       "      <td>0</td>\n",
       "      <td>0</td>\n",
       "      <td>0</td>\n",
       "      <td>40,2998774864376</td>\n",
       "      <td>-3,45226301356237</td>\n",
       "      <td>NaN</td>\n",
       "      <td>NaN</td>\n",
       "    </tr>\n",
       "  </tbody>\n",
       "</table>\n",
       "<p>5 rows × 36 columns</p>\n",
       "</div>"
      ],
      "text/plain": [
       "   id_realEstates  isNew                    realEstate_name  phone_realEstate  \\\n",
       "1       153771986  False            ferrari 57 inmobiliaria       912177526.0   \n",
       "2       153867863  False  tecnocasa fuenlabrada ferrocarril       916358736.0   \n",
       "3       153430440  False                 look find boadilla       916350408.0   \n",
       "4       152776331  False  tecnocasa fuenlabrada ferrocarril       916358736.0   \n",
       "5       153180188  False            ferrari 57 inmobiliaria       912177526.0   \n",
       "\n",
       "                                        url_inmueble  rooms  bathrooms  \\\n",
       "1  https://www.fotocasa.es/es/comprar/vivienda/ma...    3.0        2.0   \n",
       "2  https://www.fotocasa.es/es/comprar/vivienda/ma...    3.0        1.0   \n",
       "3  https://www.fotocasa.es/es/comprar/vivienda/ma...    2.0        2.0   \n",
       "4  https://www.fotocasa.es/es/comprar/vivienda/ma...    3.0        1.0   \n",
       "5  https://www.fotocasa.es/es/comprar/vivienda/ma...    2.0        2.0   \n",
       "\n",
       "   surface   price                          date  ... level4Id level5Id  \\\n",
       "1    103.0  195000  2019-12-28T18:27:15.9975027Z  ...        0        0   \n",
       "2      NaN   89000  2019-12-28T18:27:15.9975027Z  ...        0        0   \n",
       "3     99.0  390000  2019-12-28T18:27:15.9975027Z  ...        0        0   \n",
       "4     86.0   89000  2019-12-28T18:27:15.9975027Z  ...        0        0   \n",
       "5    106.0  172000  2019-12-28T18:27:15.9975027Z  ...        0        0   \n",
       "\n",
       "  level6Id level7Id level8Id accuracy          latitude          longitude  \\\n",
       "1        0        0        0        0  40,2948276786438  -3,44402412135624   \n",
       "2        0        0        0        1          40,28674           -3,79351   \n",
       "3        0        0        0        0  40,4115646786438  -3,90662252135624   \n",
       "4        0        0        0        0  40,2853785786438  -3,79508142135624   \n",
       "5        0        0        0        0  40,2998774864376  -3,45226301356237   \n",
       "\n",
       "  zipCode customZone  \n",
       "1     NaN        NaN  \n",
       "2     NaN        NaN  \n",
       "3     NaN        NaN  \n",
       "4     NaN        NaN  \n",
       "5     NaN        NaN  \n",
       "\n",
       "[5 rows x 36 columns]"
      ]
     },
     "metadata": {},
     "output_type": "display_data"
    },
    {
     "name": "stdout",
     "output_type": "stream",
     "text": [
      "La propiedad mas cara es 13111 con un precio de 8500000\n"
     ]
    }
   ],
   "source": [
    "df_datos=pd.read_csv(\"assets/real_estate.csv\",sep=\";\",index_col=0)\n",
    "display(df_datos.head())\n",
    "columna = df_datos['price']\n",
    "max_price = columna.max()\n",
    "max_index = columna.idxmax()\n",
    "#print(dato_max)\n",
    "#print(indice)\n",
    "print(f'La propiedad mas cara es {max_index} con un precio de {max_price}')"
   ]
  },
  {
   "cell_type": "markdown",
   "id": "0a708990",
   "metadata": {},
   "source": [
    "#### What is cheapest home in the dataset? (★☆☆)"
   ]
  },
  {
   "cell_type": "code",
   "execution_count": 3,
   "id": "477e01f4",
   "metadata": {},
   "outputs": [
    {
     "name": "stdout",
     "output_type": "stream",
     "text": [
      "La propiedad mas barata es 7492 con un precio de 600\n"
     ]
    }
   ],
   "source": [
    "# Ahora trato de calcular la propiedad mas barata\n",
    "# Para eso saco los datos de la propiedad que valen 0\n",
    "df_mayor_cero=df_datos[df_datos['price']>0.0]\n",
    "columna = df_mayor_cero['price']\n",
    "min_price = columna.min()\n",
    "min_index = columna.idxmin()\n",
    "#print(dato_max)\n",
    "#print(indice)\n",
    "print(f'La propiedad mas barata es {min_index} con un precio de {min_price}')\n"
   ]
  },
  {
   "cell_type": "code",
   "execution_count": 4,
   "id": "c3514840",
   "metadata": {},
   "outputs": [
    {
     "data": {
      "text/plain": [
       "count    1.527500e+04\n",
       "mean     4.791784e+05\n",
       "std      5.916957e+05\n",
       "min      6.000000e+02\n",
       "25%      1.699000e+05\n",
       "50%      2.820480e+05\n",
       "75%      5.400000e+05\n",
       "max      8.500000e+06\n",
       "Name: price, dtype: float64"
      ]
     },
     "execution_count": 4,
     "metadata": {},
     "output_type": "execute_result"
    }
   ],
   "source": [
    "# Haciendo con describe\n",
    "df_mayor_cero['price'].describe()"
   ]
  },
  {
   "cell_type": "markdown",
   "id": "0b16cd77",
   "metadata": {},
   "source": [
    "#### What is the biggest and the smallest home in the dataset? (★☆☆)"
   ]
  },
  {
   "cell_type": "code",
   "execution_count": 5,
   "id": "4d9b5975",
   "metadata": {},
   "outputs": [
    {
     "name": "stdout",
     "output_type": "stream",
     "text": [
      "La propiedad mas grande es 6795 con un tamaño de 249000.0\n",
      "La propiedad mas pequeña es 499 con un tamaño de 15.0\n"
     ]
    }
   ],
   "source": [
    "dato_max=df_datos['surface'].max()\n",
    "indice = df_datos['surface'].idxmax()\n",
    "#print(dato_max)\n",
    "#print(indice)\n",
    "print(f'La propiedad mas grande es {indice} con un tamaño de {dato_max}')\n",
    "# Ahora trato de calcular la propiedad mas pequeña\n",
    "\n",
    "dato_min=df_datos['surface'].min()\n",
    "indice_min = df_datos['surface'].idxmin()\n",
    "\n",
    "\n",
    "print(f'La propiedad mas pequeña es {indice_min} con un tamaño de {dato_min}')"
   ]
  },
  {
   "cell_type": "markdown",
   "id": "782d4c77",
   "metadata": {},
   "source": [
    "#### How many populations (level5) the dataset contains? (★☆☆)"
   ]
  },
  {
   "cell_type": "code",
   "execution_count": 6,
   "id": "5dbe1a08",
   "metadata": {},
   "outputs": [
    {
     "name": "stdout",
     "output_type": "stream",
     "text": [
      "168\n"
     ]
    }
   ],
   "source": [
    "# Son cuantos son los unicos datos en esa muestra\n",
    "print(df_datos['level5'].unique().size)"
   ]
  },
  {
   "cell_type": "markdown",
   "id": "48d48f01",
   "metadata": {},
   "source": [
    "#### Does the dataset contain NAs? (★☆☆)\n"
   ]
  },
  {
   "cell_type": "code",
   "execution_count": 7,
   "id": "3ed233e7",
   "metadata": {},
   "outputs": [
    {
     "data": {
      "text/plain": [
       "True"
      ]
     },
     "execution_count": 7,
     "metadata": {},
     "output_type": "execute_result"
    }
   ],
   "source": [
    "df_datos.isnull().values.any()"
   ]
  },
  {
   "cell_type": "markdown",
   "id": "4fa39382",
   "metadata": {},
   "source": [
    "#### Delete the NAs of the dataset, if applicable (★★☆)"
   ]
  },
  {
   "cell_type": "code",
   "execution_count": null,
   "id": "c97757ec",
   "metadata": {},
   "outputs": [],
   "source": [
    "# No es posible borrar todos los NAs ya que borraria todos los datos del data set\n",
    "\n"
   ]
  },
  {
   "cell_type": "markdown",
   "id": "0e5f76de",
   "metadata": {},
   "source": [
    "#### What is the mean of prices in the population (level5) of \"Arroyomolinos (Madrid)\"? (★★☆)"
   ]
  },
  {
   "cell_type": "code",
   "execution_count": 8,
   "id": "327f7adb",
   "metadata": {},
   "outputs": [
    {
     "name": "stdout",
     "output_type": "stream",
     "text": [
      "El valor promedio solicitado es 294541.59854014596\n"
     ]
    }
   ],
   "source": [
    "#df_datos['level5'].unique()\n",
    "filter_df= df_datos[df_datos['level5']=='Arroyomolinos (Madrid)']\n",
    "print(\"El valor promedio solicitado es\",filter_df['price'].mean())\n",
    "\n"
   ]
  },
  {
   "cell_type": "markdown",
   "id": "89b548e3",
   "metadata": {},
   "source": [
    "#### Plot the histogram of prices for the population (level5) of \"Arroyomolinos (Madrid)\" and explain what you observe (★★☆)"
   ]
  },
  {
   "cell_type": "code",
   "execution_count": 9,
   "id": "2ba51bf7",
   "metadata": {},
   "outputs": [
    {
     "data": {
      "image/png": "[encoded data removed]",
      "text/plain": [
       "<Figure size 432x288 with 1 Axes>"
      ]
     },
     "metadata": {
      "needs_background": "light"
     },
     "output_type": "display_data"
    }
   ],
   "source": [
    "import matplotlib.pyplot as plt \n",
    "plt.hist(filter_df['price'])\n",
    "plt.show()"
   ]
  },
  {
   "cell_type": "markdown",
   "id": "c86dc493",
   "metadata": {},
   "source": [
    "#### Now let's work with the \"south belt\" of madrid. Make a subsetting that contains the following populations (level5): \"Fuenlabrada\",\"Leganés\",\"Getafe\",\"Alcorcón\" (★★☆) "
   ]
  },
  {
   "cell_type": "code",
   "execution_count": 17,
   "id": "5280d0cb",
   "metadata": {},
   "outputs": [
    {
     "name": "stdout",
     "output_type": "stream",
     "text": [
      "El filtro aplicado queda        id_realEstates  isNew                            realEstate_name  \\\n",
      "2           153867863  False          tecnocasa fuenlabrada ferrocarril   \n",
      "4           152776331  False          tecnocasa fuenlabrada ferrocarril   \n",
      "86          153152077  False                    sinergical inmobiliaria   \n",
      "95          153995577  False                            viviendas365com   \n",
      "110         153586414  False            area uno asesores inmobiliarios   \n",
      "...               ...    ...                                        ...   \n",
      "15276       153903887  False  aliseda servicios de gestion inmobiliaria   \n",
      "15292       151697757  False                                    unipiso   \n",
      "15306       153902389  False                             jadein ferrero   \n",
      "15323       153871864  False                          gestion comercial   \n",
      "15326       153901467  False                              montehogar 68   \n",
      "\n",
      "       phone_realEstate                                       url_inmueble  \\\n",
      "2           916358736.0  https://www.fotocasa.es/es/comprar/vivienda/ma...   \n",
      "4           916358736.0  https://www.fotocasa.es/es/comprar/vivienda/ma...   \n",
      "86                  NaN  https://www.fotocasa.es/es/comprar/vivienda/le...   \n",
      "95          911226014.0  https://www.fotocasa.es/es/comprar/vivienda/le...   \n",
      "110         912664081.0  https://www.fotocasa.es/es/comprar/vivienda/ma...   \n",
      "...                 ...                                                ...   \n",
      "15276       911368198.0  https://www.fotocasa.es/es/comprar/vivienda/al...   \n",
      "15292       912788631.0  https://www.fotocasa.es/es/comprar/vivienda/al...   \n",
      "15306       914871639.0  https://www.fotocasa.es/es/comprar/vivienda/ma...   \n",
      "15323       911220662.0  https://www.fotocasa.es/es/comprar/vivienda/ma...   \n",
      "15326       911790675.0  https://www.fotocasa.es/es/comprar/vivienda/ma...   \n",
      "\n",
      "       rooms  bathrooms  surface   price                          date  ...  \\\n",
      "2        3.0        1.0      NaN   89000  2019-12-28T18:27:15.9975027Z  ...   \n",
      "4        3.0        1.0     86.0   89000  2019-12-28T18:27:15.9975027Z  ...   \n",
      "86       1.0        1.0     50.0  107000   2019-12-28T18:30:53.960102Z  ...   \n",
      "95       3.0        2.0    120.0  320000   2019-12-28T18:30:53.960102Z  ...   \n",
      "110      3.0        3.0    142.0  425000  2019-12-28T18:32:32.5337942Z  ...   \n",
      "...      ...        ...      ...     ...                           ...  ...   \n",
      "15276    3.0        1.0     78.0  138000          2019-12-17T19:02:00Z  ...   \n",
      "15292    3.0        2.0    110.0  279000          2019-12-17T18:57:00Z  ...   \n",
      "15306    3.0        2.0     85.0  170000          2019-12-17T18:43:00Z  ...   \n",
      "15323    3.0        1.0     91.0  112000          2019-12-17T18:25:00Z  ...   \n",
      "15326    2.0        2.0     99.0  215000          2019-12-17T18:24:00Z  ...   \n",
      "\n",
      "      level4Id level5Id level6Id level7Id level8Id accuracy          latitude  \\\n",
      "2            0        0        0        0        0        1          40,28674   \n",
      "4            0        0        0        0        0        0  40,2853785786438   \n",
      "86           0        0        0        0        0        1          40,35059   \n",
      "95           0        0        0        0        0        0          40,31933   \n",
      "110          0        0        0        0        0        0        40,3313411   \n",
      "...        ...      ...      ...      ...      ...      ...               ...   \n",
      "15276        0        0        0        0        0        1          40,31381   \n",
      "15292        0        0        0        0        0        0        40,3259051   \n",
      "15306        0        0        0        0        0        0        40,2882193   \n",
      "15323        0        0        0        0        0        0          40,28282   \n",
      "15326        0        0        0        0        0        1          40,28062   \n",
      "\n",
      "               longitude zipCode customZone  \n",
      "2               -3,79351     NaN        NaN  \n",
      "4      -3,79508142135624     NaN        NaN  \n",
      "86              -3,82693     NaN        NaN  \n",
      "95              -3,77574     NaN        NaN  \n",
      "110           -3,8313868     NaN        NaN  \n",
      "...                  ...     ...        ...  \n",
      "15276           -3,83733     NaN        NaN  \n",
      "15292           -3,76318     NaN        NaN  \n",
      "15306         -3,8098617     NaN        NaN  \n",
      "15323           -3,78892     NaN        NaN  \n",
      "15326           -3,79869     NaN        NaN  \n",
      "\n",
      "[895 rows x 36 columns]\n"
     ]
    }
   ],
   "source": [
    "filter_southBelt= df_datos[df_datos['level5'].isin((\"Fuenlabrada\",\"Leganés\",\"Getafe\",\"Alcorcón\"))]\n",
    "filter_southBelt= filter_southBelt[filter_southBelt['price']>0]\n",
    "print(\"El filtro aplicado queda\",filter_southBelt)"
   ]
  },
  {
   "cell_type": "markdown",
   "id": "090a6a3e",
   "metadata": {},
   "source": [
    "#### Make a bar plot of the median of prices (★★★) "
   ]
  },
  {
   "cell_type": "code",
   "execution_count": 18,
   "id": "68aec11c",
   "metadata": {},
   "outputs": [
    {
     "data": {
      "image/png": "[encoded data removed]",
      "text/plain": [
       "<Figure size 432x288 with 1 Axes>"
      ]
     },
     "metadata": {
      "needs_background": "light"
     },
     "output_type": "display_data"
    }
   ],
   "source": [
    "\n",
    "agrupando = filter_southBelt.groupby('level5').median()\n",
    "keys = agrupando.index.values.tolist()\n",
    "values = agrupando['price'].tolist()\n",
    "plt.bar(keys, values)\n",
    "plt.show()"
   ]
  },
  {
   "cell_type": "markdown",
   "id": "18f67373",
   "metadata": {},
   "source": [
    "#### Calculate the sample mean and variance of the variables: price, rooms, surface area and bathrooms (★★★) "
   ]
  },
  {
   "cell_type": "code",
   "execution_count": 20,
   "id": "8d068061",
   "metadata": {},
   "outputs": [
    {
     "name": "stdout",
     "output_type": "stream",
     "text": [
      "El promedio de la variable price es: 226085.69162011173\n",
      "La varianza de la variable price es: 14444627877.728062\n",
      "El promedio de la variable rooms es: 3.0235955056179775\n",
      "La varianza de la variable rooms es: 0.7204774964927139\n",
      "El promedio de la variable surface es: 111.29806451612903\n",
      "La varianza de la variable surface es: 4275.920086688338\n",
      "El promedio de la variable bathrooms es: 1.6271186440677967\n",
      "La varianza de la variable bathrooms es: 0.5757343354551729\n"
     ]
    }
   ],
   "source": [
    "columns = [\"price\", \"rooms\", \"surface\", \"bathrooms\"]\n",
    "\n",
    "for column in columns:\n",
    "    mean = filter_southBelt[column].mean()\n",
    "    print(\"El promedio de la variable\", column, \"es:\", mean)\n",
    "    variance = filter_southBelt[column].var()\n",
    "    print(\"La varianza de la variable\", column, \"es:\", variance)"
   ]
  },
  {
   "cell_type": "markdown",
   "id": "95cfde61",
   "metadata": {},
   "source": [
    "#### What is the most expensive home of each population? (★★☆) "
   ]
  },
  {
   "cell_type": "code",
   "execution_count": 22,
   "id": "1c29f78c",
   "metadata": {},
   "outputs": [
    {
     "name": "stdout",
     "output_type": "stream",
     "text": [
      "La casa más costosa en Fuenlabrada es:\n"
     ]
    },
    {
     "data": {
      "text/html": [
       "<div>\n",
       "<style scoped>\n",
       "    .dataframe tbody tr th:only-of-type {\n",
       "        vertical-align: middle;\n",
       "    }\n",
       "\n",
       "    .dataframe tbody tr th {\n",
       "        vertical-align: top;\n",
       "    }\n",
       "\n",
       "    .dataframe thead th {\n",
       "        text-align: right;\n",
       "    }\n",
       "</style>\n",
       "<table border=\"1\" class=\"dataframe\">\n",
       "  <thead>\n",
       "    <tr style=\"text-align: right;\">\n",
       "      <th></th>\n",
       "      <th>id_realEstates</th>\n",
       "      <th>isNew</th>\n",
       "      <th>realEstate_name</th>\n",
       "      <th>phone_realEstate</th>\n",
       "      <th>url_inmueble</th>\n",
       "      <th>rooms</th>\n",
       "      <th>bathrooms</th>\n",
       "      <th>surface</th>\n",
       "      <th>price</th>\n",
       "      <th>date</th>\n",
       "      <th>...</th>\n",
       "      <th>level4Id</th>\n",
       "      <th>level5Id</th>\n",
       "      <th>level6Id</th>\n",
       "      <th>level7Id</th>\n",
       "      <th>level8Id</th>\n",
       "      <th>accuracy</th>\n",
       "      <th>latitude</th>\n",
       "      <th>longitude</th>\n",
       "      <th>zipCode</th>\n",
       "      <th>customZone</th>\n",
       "    </tr>\n",
       "  </thead>\n",
       "  <tbody>\n",
       "    <tr>\n",
       "      <th>11562</th>\n",
       "      <td>153660921</td>\n",
       "      <td>False</td>\n",
       "      <td>unna madrid</td>\n",
       "      <td>912780846.0</td>\n",
       "      <td>https://www.fotocasa.es/es/comprar/vivienda/va...</td>\n",
       "      <td>4.0</td>\n",
       "      <td>3.0</td>\n",
       "      <td>274.0</td>\n",
       "      <td>490000</td>\n",
       "      <td>2019-12-20T10:31:00Z</td>\n",
       "      <td>...</td>\n",
       "      <td>0</td>\n",
       "      <td>0</td>\n",
       "      <td>0</td>\n",
       "      <td>0</td>\n",
       "      <td>0</td>\n",
       "      <td>1</td>\n",
       "      <td>40,28286</td>\n",
       "      <td>-3,81475</td>\n",
       "      <td>NaN</td>\n",
       "      <td>NaN</td>\n",
       "    </tr>\n",
       "  </tbody>\n",
       "</table>\n",
       "<p>1 rows × 36 columns</p>\n",
       "</div>"
      ],
      "text/plain": [
       "       id_realEstates  isNew realEstate_name  phone_realEstate  \\\n",
       "11562       153660921  False     unna madrid       912780846.0   \n",
       "\n",
       "                                            url_inmueble  rooms  bathrooms  \\\n",
       "11562  https://www.fotocasa.es/es/comprar/vivienda/va...    4.0        3.0   \n",
       "\n",
       "       surface   price                  date  ... level4Id level5Id level6Id  \\\n",
       "11562    274.0  490000  2019-12-20T10:31:00Z  ...        0        0        0   \n",
       "\n",
       "      level7Id level8Id accuracy  latitude longitude zipCode customZone  \n",
       "11562        0        0        1  40,28286  -3,81475     NaN        NaN  \n",
       "\n",
       "[1 rows x 36 columns]"
      ]
     },
     "metadata": {},
     "output_type": "display_data"
    },
    {
     "name": "stdout",
     "output_type": "stream",
     "text": [
      "La casa más costosa en Leganés es:\n"
     ]
    },
    {
     "data": {
      "text/html": [
       "<div>\n",
       "<style scoped>\n",
       "    .dataframe tbody tr th:only-of-type {\n",
       "        vertical-align: middle;\n",
       "    }\n",
       "\n",
       "    .dataframe tbody tr th {\n",
       "        vertical-align: top;\n",
       "    }\n",
       "\n",
       "    .dataframe thead th {\n",
       "        text-align: right;\n",
       "    }\n",
       "</style>\n",
       "<table border=\"1\" class=\"dataframe\">\n",
       "  <thead>\n",
       "    <tr style=\"text-align: right;\">\n",
       "      <th></th>\n",
       "      <th>id_realEstates</th>\n",
       "      <th>isNew</th>\n",
       "      <th>realEstate_name</th>\n",
       "      <th>phone_realEstate</th>\n",
       "      <th>url_inmueble</th>\n",
       "      <th>rooms</th>\n",
       "      <th>bathrooms</th>\n",
       "      <th>surface</th>\n",
       "      <th>price</th>\n",
       "      <th>date</th>\n",
       "      <th>...</th>\n",
       "      <th>level4Id</th>\n",
       "      <th>level5Id</th>\n",
       "      <th>level6Id</th>\n",
       "      <th>level7Id</th>\n",
       "      <th>level8Id</th>\n",
       "      <th>accuracy</th>\n",
       "      <th>latitude</th>\n",
       "      <th>longitude</th>\n",
       "      <th>zipCode</th>\n",
       "      <th>customZone</th>\n",
       "    </tr>\n",
       "  </thead>\n",
       "  <tbody>\n",
       "    <tr>\n",
       "      <th>10413</th>\n",
       "      <td>152251506</td>\n",
       "      <td>False</td>\n",
       "      <td>bafre gestion y servicios inmobiliarios</td>\n",
       "      <td>910752245.0</td>\n",
       "      <td>https://www.fotocasa.es/es/comprar/vivienda/co...</td>\n",
       "      <td>6.0</td>\n",
       "      <td>5.0</td>\n",
       "      <td>360.0</td>\n",
       "      <td>650000</td>\n",
       "      <td>2019-12-21T16:00:00Z</td>\n",
       "      <td>...</td>\n",
       "      <td>0</td>\n",
       "      <td>0</td>\n",
       "      <td>0</td>\n",
       "      <td>0</td>\n",
       "      <td>0</td>\n",
       "      <td>0</td>\n",
       "      <td>40,3423636291504</td>\n",
       "      <td>-3,74814414978027</td>\n",
       "      <td>NaN</td>\n",
       "      <td>NaN</td>\n",
       "    </tr>\n",
       "  </tbody>\n",
       "</table>\n",
       "<p>1 rows × 36 columns</p>\n",
       "</div>"
      ],
      "text/plain": [
       "       id_realEstates  isNew                          realEstate_name  \\\n",
       "10413       152251506  False  bafre gestion y servicios inmobiliarios   \n",
       "\n",
       "       phone_realEstate                                       url_inmueble  \\\n",
       "10413       910752245.0  https://www.fotocasa.es/es/comprar/vivienda/co...   \n",
       "\n",
       "       rooms  bathrooms  surface   price                  date  ... level4Id  \\\n",
       "10413    6.0        5.0    360.0  650000  2019-12-21T16:00:00Z  ...        0   \n",
       "\n",
       "      level5Id level6Id level7Id level8Id accuracy          latitude  \\\n",
       "10413        0        0        0        0        0  40,3423636291504   \n",
       "\n",
       "               longitude zipCode customZone  \n",
       "10413  -3,74814414978027     NaN        NaN  \n",
       "\n",
       "[1 rows x 36 columns]"
      ]
     },
     "metadata": {},
     "output_type": "display_data"
    },
    {
     "name": "stdout",
     "output_type": "stream",
     "text": [
      "La casa más costosa en Getafe es:\n"
     ]
    },
    {
     "data": {
      "text/html": [
       "<div>\n",
       "<style scoped>\n",
       "    .dataframe tbody tr th:only-of-type {\n",
       "        vertical-align: middle;\n",
       "    }\n",
       "\n",
       "    .dataframe tbody tr th {\n",
       "        vertical-align: top;\n",
       "    }\n",
       "\n",
       "    .dataframe thead th {\n",
       "        text-align: right;\n",
       "    }\n",
       "</style>\n",
       "<table border=\"1\" class=\"dataframe\">\n",
       "  <thead>\n",
       "    <tr style=\"text-align: right;\">\n",
       "      <th></th>\n",
       "      <th>id_realEstates</th>\n",
       "      <th>isNew</th>\n",
       "      <th>realEstate_name</th>\n",
       "      <th>phone_realEstate</th>\n",
       "      <th>url_inmueble</th>\n",
       "      <th>rooms</th>\n",
       "      <th>bathrooms</th>\n",
       "      <th>surface</th>\n",
       "      <th>price</th>\n",
       "      <th>date</th>\n",
       "      <th>...</th>\n",
       "      <th>level4Id</th>\n",
       "      <th>level5Id</th>\n",
       "      <th>level6Id</th>\n",
       "      <th>level7Id</th>\n",
       "      <th>level8Id</th>\n",
       "      <th>accuracy</th>\n",
       "      <th>latitude</th>\n",
       "      <th>longitude</th>\n",
       "      <th>zipCode</th>\n",
       "      <th>customZone</th>\n",
       "    </tr>\n",
       "  </thead>\n",
       "  <tbody>\n",
       "    <tr>\n",
       "      <th>2882</th>\n",
       "      <td>151105544</td>\n",
       "      <td>False</td>\n",
       "      <td>unna grupo inmobiliario</td>\n",
       "      <td>912665694.0</td>\n",
       "      <td>https://www.fotocasa.es/es/comprar/vivienda/ma...</td>\n",
       "      <td>6.0</td>\n",
       "      <td>4.0</td>\n",
       "      <td>600.0</td>\n",
       "      <td>1050000</td>\n",
       "      <td>2019-12-27T15:59:00Z</td>\n",
       "      <td>...</td>\n",
       "      <td>0</td>\n",
       "      <td>0</td>\n",
       "      <td>0</td>\n",
       "      <td>0</td>\n",
       "      <td>0</td>\n",
       "      <td>0</td>\n",
       "      <td>40,302820239187</td>\n",
       "      <td>-3,7281704612835</td>\n",
       "      <td>NaN</td>\n",
       "      <td>NaN</td>\n",
       "    </tr>\n",
       "  </tbody>\n",
       "</table>\n",
       "<p>1 rows × 36 columns</p>\n",
       "</div>"
      ],
      "text/plain": [
       "      id_realEstates  isNew          realEstate_name  phone_realEstate  \\\n",
       "2882       151105544  False  unna grupo inmobiliario       912665694.0   \n",
       "\n",
       "                                           url_inmueble  rooms  bathrooms  \\\n",
       "2882  https://www.fotocasa.es/es/comprar/vivienda/ma...    6.0        4.0   \n",
       "\n",
       "      surface    price                  date  ... level4Id level5Id level6Id  \\\n",
       "2882    600.0  1050000  2019-12-27T15:59:00Z  ...        0        0        0   \n",
       "\n",
       "     level7Id level8Id accuracy         latitude         longitude zipCode  \\\n",
       "2882        0        0        0  40,302820239187  -3,7281704612835     NaN   \n",
       "\n",
       "     customZone  \n",
       "2882        NaN  \n",
       "\n",
       "[1 rows x 36 columns]"
      ]
     },
     "metadata": {},
     "output_type": "display_data"
    },
    {
     "name": "stdout",
     "output_type": "stream",
     "text": [
      "La casa más costosa en Alcorcón es:\n"
     ]
    },
    {
     "data": {
      "text/html": [
       "<div>\n",
       "<style scoped>\n",
       "    .dataframe tbody tr th:only-of-type {\n",
       "        vertical-align: middle;\n",
       "    }\n",
       "\n",
       "    .dataframe tbody tr th {\n",
       "        vertical-align: top;\n",
       "    }\n",
       "\n",
       "    .dataframe thead th {\n",
       "        text-align: right;\n",
       "    }\n",
       "</style>\n",
       "<table border=\"1\" class=\"dataframe\">\n",
       "  <thead>\n",
       "    <tr style=\"text-align: right;\">\n",
       "      <th></th>\n",
       "      <th>id_realEstates</th>\n",
       "      <th>isNew</th>\n",
       "      <th>realEstate_name</th>\n",
       "      <th>phone_realEstate</th>\n",
       "      <th>url_inmueble</th>\n",
       "      <th>rooms</th>\n",
       "      <th>bathrooms</th>\n",
       "      <th>surface</th>\n",
       "      <th>price</th>\n",
       "      <th>date</th>\n",
       "      <th>...</th>\n",
       "      <th>level4Id</th>\n",
       "      <th>level5Id</th>\n",
       "      <th>level6Id</th>\n",
       "      <th>level7Id</th>\n",
       "      <th>level8Id</th>\n",
       "      <th>accuracy</th>\n",
       "      <th>latitude</th>\n",
       "      <th>longitude</th>\n",
       "      <th>zipCode</th>\n",
       "      <th>customZone</th>\n",
       "    </tr>\n",
       "  </thead>\n",
       "  <tbody>\n",
       "    <tr>\n",
       "      <th>5586</th>\n",
       "      <td>153275915</td>\n",
       "      <td>False</td>\n",
       "      <td>100 home red inmobiliaria</td>\n",
       "      <td>912669623.0</td>\n",
       "      <td>https://www.fotocasa.es/es/comprar/vivienda/ca...</td>\n",
       "      <td>6.0</td>\n",
       "      <td>6.0</td>\n",
       "      <td>722.0</td>\n",
       "      <td>950000</td>\n",
       "      <td>2019-12-26T11:01:00Z</td>\n",
       "      <td>...</td>\n",
       "      <td>0</td>\n",
       "      <td>0</td>\n",
       "      <td>0</td>\n",
       "      <td>0</td>\n",
       "      <td>0</td>\n",
       "      <td>0</td>\n",
       "      <td>40,3535169</td>\n",
       "      <td>-3,8664683</td>\n",
       "      <td>NaN</td>\n",
       "      <td>NaN</td>\n",
       "    </tr>\n",
       "  </tbody>\n",
       "</table>\n",
       "<p>1 rows × 36 columns</p>\n",
       "</div>"
      ],
      "text/plain": [
       "      id_realEstates  isNew            realEstate_name  phone_realEstate  \\\n",
       "5586       153275915  False  100 home red inmobiliaria       912669623.0   \n",
       "\n",
       "                                           url_inmueble  rooms  bathrooms  \\\n",
       "5586  https://www.fotocasa.es/es/comprar/vivienda/ca...    6.0        6.0   \n",
       "\n",
       "      surface   price                  date  ... level4Id level5Id level6Id  \\\n",
       "5586    722.0  950000  2019-12-26T11:01:00Z  ...        0        0        0   \n",
       "\n",
       "     level7Id level8Id accuracy    latitude   longitude zipCode customZone  \n",
       "5586        0        0        0  40,3535169  -3,8664683     NaN        NaN  \n",
       "\n",
       "[1 rows x 36 columns]"
      ]
     },
     "metadata": {},
     "output_type": "display_data"
    }
   ],
   "source": [
    "\n",
    "ds_precio_descendente = filter_southBelt.sort_values(by='price', ascending=False)\n",
    "ds_precio_descendente[0:1]\n",
    "nombres_5 =[\"Fuenlabrada\",\"Leganés\",\"Getafe\",\"Alcorcón\"]\n",
    "for population in nombres_5:\n",
    "    ds_mehfp = ds_precio_descendente[ds_precio_descendente[\"level5\"] == population]\n",
    "    print(\"La casa más costosa en\", population, \"es:\")\n",
    "    display(ds_mehfp[0:1])"
   ]
  },
  {
   "cell_type": "markdown",
   "id": "ea67579b",
   "metadata": {},
   "source": [
    "#### Normalize the variable of prices for each population and plot the 4 histograms in the same plot (★★★) "
   ]
  },
  {
   "cell_type": "code",
   "execution_count": 23,
   "id": "385ad99c",
   "metadata": {},
   "outputs": [
    {
     "data": {
      "image/png": "[encoded data removed]",
      "text/plain": [
       "<Figure size 720x720 with 4 Axes>"
      ]
     },
     "metadata": {
      "needs_background": "light"
     },
     "output_type": "display_data"
    }
   ],
   "source": [
    "plt.figure(figsize=(10,10))\n",
    "plt.suptitle(\"Normalized price histogram for each population\")\n",
    "id = 1\n",
    "columna = \"price\"\n",
    "\n",
    "for population in nombres_5:\n",
    "    subset_population = df_datos[df_datos[\"level5\"] == population]\n",
    "    subset_population_normalizado = subset_population.copy()\n",
    "    maximo = subset_population[columna].max()\n",
    "    minimo = subset_population[columna].min()\n",
    "    subset_population_normalizado[columna] = (subset_population[columna] - minimo) / (maximo - minimo)\n",
    "    plt.subplot(2, 2, id)\n",
    "    plt.hist(subset_population_normalizado[\"price\"], bins=20)\n",
    "    plt.title(population)\n",
    "    id = id+1"
   ]
  },
  {
   "cell_type": "markdown",
   "id": "2ec1bd5c",
   "metadata": {},
   "source": [
    "#### Make a plot of the coordinates (lat and long) of the south belt of Madrid by color of each population (★★★★) \n",
    "This is a extremely hard exercise and we highly recommend to do it at the end of everything"
   ]
  },
  {
   "cell_type": "code",
   "execution_count": null,
   "id": "312aac99",
   "metadata": {},
   "outputs": [],
   "source": [
    "# Run in console the following command before run the rest of code:\n",
    "# jupyter nbextension enable --py --sys-prefix ipyleaflet\n",
    "\n",
    "from ipyleaflet import Map, basemaps\n",
    "\n",
    "# Map centred on (60 degrees latitude et -2.2 degrees longitude)\n",
    "# Latitude, longitude\n",
    "map = Map(center = (60, -2.2), zoom = 2, min_zoom = 1, max_zoom = 20, \n",
    "    basemap=basemaps.Stamen.Terrain)\n",
    "map"
   ]
  },
  {
   "cell_type": "code",
   "execution_count": 25,
   "id": "2cd27edf",
   "metadata": {},
   "outputs": [
    {
     "data": {
      "image/png": "[encoded data removed]",
      "text/plain": [
       "<Figure size 720x720 with 1 Axes>"
      ]
     },
     "metadata": {
      "needs_background": "light"
     },
     "output_type": "display_data"
    }
   ],
   "source": [
    "plt.figure(figsize=(10,10))\n",
    "plt.xlabel(\"Longitude\")\n",
    "plt.ylabel(\"Latitude\")\n",
    "plt.title(\"Latitude vs longitude\")\n",
    "\n",
    "colores = [\"r\", \"g\", \"y\", \"b\"]\n",
    "\n",
    "for j in range(4):\n",
    "    south_belt = df_datos[df_datos[\"level5\"] == (nombres_5[j])]\n",
    "    cantidad_filas = south_belt.shape[0]\n",
    "    for k in range(cantidad_filas):\n",
    "        latitud = south_belt.iloc[k][\"latitude\"]\n",
    "        latitud = str(latitud)  # Es necesario convertir la latitud y la longitud a floats\n",
    "        latitud_float = float(latitud.replace(\",\" , \".\"))\n",
    "        longitud = south_belt.iloc[k][\"longitude\"]\n",
    "        longitud = str(longitud)\n",
    "        longitud_float = float(longitud.replace(\",\" , \".\"))\n",
    "        texto = \"o\"+colores[j]\n",
    "        if latitud_float > 30:  # Agrego esta condición ya que una de las filas tiene latitud y longitud 0\n",
    "            plt.plot(longitud_float, latitud_float, texto)\n",
    "        if k == cantidad_filas-1 :\n",
    "            plt.text(longitud_float+0.001, latitud_float+0.001, nombres_5[j])"
   ]
  },
  {
   "cell_type": "code",
   "execution_count": null,
   "id": "f7931ec0",
   "metadata": {},
   "outputs": [],
   "source": [
    "## HERE: plot the coordinates of the estates\n",
    "\n",
    "## PUT HERE YOUR CODE:\n"
   ]
  },
  {
   "cell_type": "markdown",
   "id": "b22874b7",
   "metadata": {},
   "source": [
    "#### What can you say about the price per square meter between the towns of Getafe and Alcorcón?"
   ]
  },
  {
   "cell_type": "code",
   "execution_count": 26,
   "id": "e0ef506b",
   "metadata": {},
   "outputs": [],
   "source": [
    "def calculo_metros(lista):\n",
    "    for population in lista:\n",
    "        subset_population = df_datos[df_datos[\"level5\"] == population] \n",
    "        promedio = (subset_population[\"price\"] / subset_population[\"surface\"]).mean()\n",
    "        print(\"El precio promedio por metro cuadrado en\", population, \"es\", promedio)\n",
    "\n",
    "        "
   ]
  },
  {
   "cell_type": "code",
   "execution_count": 27,
   "id": "fdb8321b",
   "metadata": {},
   "outputs": [
    {
     "name": "stdout",
     "output_type": "stream",
     "text": [
      "El precio promedio por metro cuadrado en Getafe es 2066.314949251463\n",
      "El precio promedio por metro cuadrado en Alcorcón es 2239.302480199618\n"
     ]
    }
   ],
   "source": [
    "calculo_metros([\"Getafe\", \"Alcorcón\"])"
   ]
  },
  {
   "cell_type": "markdown",
   "id": "a4376b3f",
   "metadata": {},
   "source": [
    "#### Reload the data, is the average of \"Valdemorillo\" and \"Galapagar\" prices the same?"
   ]
  },
  {
   "cell_type": "code",
   "execution_count": 28,
   "id": "37dbaf65",
   "metadata": {},
   "outputs": [
    {
     "name": "stdout",
     "output_type": "stream",
     "text": [
      "El precio promedio en Valdemorillo es: 363860.2931034483\n",
      "El precio promedio en Galapagar es: 360063.20238095237\n"
     ]
    }
   ],
   "source": [
    "\n",
    "for population in [\"Valdemorillo\", \"Galapagar\"]:\n",
    "    subset_price_average = df_datos[df_datos[\"level5\"]==population]\n",
    "    average = subset_price_average[\"price\"].mean()\n",
    "    print(\"El precio promedio en\", population, \"es:\", average)"
   ]
  },
  {
   "cell_type": "markdown",
   "id": "b6af45ec",
   "metadata": {},
   "source": [
    "#### What happens if we do the same analysis for price/m2 (★★☆) "
   ]
  },
  {
   "cell_type": "code",
   "execution_count": 29,
   "id": "8231d73e",
   "metadata": {},
   "outputs": [
    {
     "name": "stdout",
     "output_type": "stream",
     "text": [
      "El precio promedio por metro cuadrado en Valdemorillo es 1317.9502109024986\n",
      "El precio promedio por metro cuadrado en Galapagar es 1606.3240303094024\n"
     ]
    }
   ],
   "source": [
    "calculo_metros([\"Valdemorillo\", \"Galapagar\"])"
   ]
  },
  {
   "cell_type": "markdown",
   "id": "2d40e202",
   "metadata": {},
   "source": [
    "#### Could you say there is a relation between surface and price? (★★☆) \n",
    "Hint: make a scatter plot."
   ]
  },
  {
   "cell_type": "code",
   "execution_count": 31,
   "id": "405462e1",
   "metadata": {},
   "outputs": [
    {
     "data": {
      "text/plain": [
       "Text(0.5, 1.0, 'Surface vs price')"
      ]
     },
     "execution_count": 31,
     "metadata": {},
     "output_type": "execute_result"
    },
    {
     "data": {
      "image/png": "[encoded data removed]",
      "text/plain": [
       "<Figure size 864x576 with 1 Axes>"
      ]
     },
     "metadata": {
      "needs_background": "light"
     },
     "output_type": "display_data"
    }
   ],
   "source": [
    "# Interpreto que en este caso pide usar el dataset completo\n",
    "# Establezco un valor máximo para la superficie ya que hay valores que se salen de lo normal\n",
    "ds_filtrado_por_superficie = df_datos[df_datos[\"surface\"]<3000]\n",
    "plt.figure(figsize=(12,8))\n",
    "plt.scatter(ds_filtrado_por_superficie[\"surface\"], ds_filtrado_por_superficie[\"price\"])\n",
    "plt.xlabel(\"Surface\")\n",
    "plt.ylabel(\"Price\")\n",
    "plt.title(\"Surface vs price\")"
   ]
  },
  {
   "cell_type": "code",
   "execution_count": null,
   "id": "310c72f4",
   "metadata": {},
   "outputs": [],
   "source": [
    "# dejar comentario porque es esta forma de la dispersion de precios\n",
    "# Podemos decir que la gran mayoria de datos estan concentrados en un rango, pero los que \n",
    "# estan separados vemos que cuanto mas es el area o superfice que ocupan es mayor el precio\n"
   ]
  },
  {
   "cell_type": "markdown",
   "id": "3275db77",
   "metadata": {},
   "source": [
    "#### Make the same plot for 4 different populations (level5) and rearrange them on the same graph? (★★☆) \n",
    "Hint: make a scatter plot of each population using subplots."
   ]
  },
  {
   "cell_type": "code",
   "execution_count": 34,
   "id": "e08292ff",
   "metadata": {},
   "outputs": [
    {
     "data": {
      "image/png": "[encoded data removed]",
      "text/plain": [
       "<Figure size 864x864 with 4 Axes>"
      ]
     },
     "metadata": {
      "needs_background": "light"
     },
     "output_type": "display_data"
    }
   ],
   "source": [
    "plt.figure(figsize=(12,12))\n",
    "plt.suptitle(\"Surface vs price for 4 different populations\")\n",
    "id = 1\n",
    "\n",
    "for population in nombres_5:\n",
    "    subset_population = df_datos[df_datos[\"level5\"] == population]\n",
    "    plt.subplot(2, 2, id)\n",
    "    plt.scatter(subset_population[\"surface\"], subset_population[\"price\"])\n",
    "    plt.xlabel(\"Surface\")\n",
    "    plt.ylabel(\"Price\")\n",
    "    plt.title(population)\n",
    "    id = id+1"
   ]
  },
  {
   "cell_type": "markdown",
   "id": "522c6bd9",
   "metadata": {},
   "source": [
    "#### How many  real estate agencies the dataset contains? (★★☆) "
   ]
  },
  {
   "cell_type": "code",
   "execution_count": 35,
   "id": "014ec6c8",
   "metadata": {},
   "outputs": [
    {
     "name": "stdout",
     "output_type": "stream",
     "text": [
      "Hemos encontrado 1821 agencias en el dataset\n"
     ]
    }
   ],
   "source": [
    "grupo_real_estate_agencies = df_datos.groupby('realEstate_name').sum()\n",
    "print(\"Hemos encontrado\", len(grupo_real_estate_agencies), \"agencias en el dataset\")"
   ]
  },
  {
   "cell_type": "markdown",
   "id": "899a101e",
   "metadata": {},
   "source": [
    "#### What is the population (level 5) that contains the most houses? (★★☆) "
   ]
  },
  {
   "cell_type": "code",
   "execution_count": 36,
   "id": "9e8b34ba",
   "metadata": {},
   "outputs": [
    {
     "name": "stdout",
     "output_type": "stream",
     "text": [
      "[' Madrid Capital']\n"
     ]
    }
   ],
   "source": [
    "# Aca utilizamos un diccionario para hacer el grupoby\n",
    "\n",
    "most_houses_population = df_datos.groupby('level5')['id_realEstates'].count()\n",
    "max_houses = most_houses_population.max()\n",
    "\n",
    "most_houses_population_dict = most_houses_population.to_dict()\n",
    "\n",
    "population_MH = []\n",
    "for key, value in most_houses_population_dict.items():\n",
    "    if value == max_houses:\n",
    "        population_MH.append(key)\n",
    "\n",
    "print(population_MH)"
   ]
  }
 ],
 "metadata": {
  "kernelspec": {
   "display_name": "Python 3.8.13 64-bit ('3.8.13')",
   "language": "python",
   "name": "python3"
  },
  "language_info": {
   "codemirror_mode": {
    "name": "ipython",
    "version": 3
   },
   "file_extension": ".py",
   "mimetype": "text/x-python",
   "name": "python",
   "nbconvert_exporter": "python",
   "pygments_lexer": "ipython3",
   "version": "3.8.13"
  },
  "vscode": {
   "interpreter": {
    "hash": "110cc1dee26208153f2972f08a2ad52b6a56238dc66d48e87fb757ef2996db56"
   }
  }
 },
 "nbformat": 4,
 "nbformat_minor": 5
}
