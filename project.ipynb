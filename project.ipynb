{
 "cells": [
  {
   "cell_type": "markdown",
   "id": "c4e52ee5",
   "metadata": {},
   "source": [
    "## The dataset\n",
    "\n",
    "This is a real dataset and it was downloaded using web scraping techniques. The data contains registers from fotocasa which is one of the most popular websites of real estate in Spain. Please, do not do this (web scraping) unless it is for academic purposes.\n",
    "\n",
    "The dataset was downloaded a few years ago by Henry Navarro and In no case were economic returns obtained from it.\n",
    "\n",
    "It contains thousands of data from real homes published on the web www.fotocasa.com. Your goal is to extract as much information as possible with the knowledge you have so far about data science, for example what is the most expensive home in the entire dataset?\n",
    "\n",
    "Let's start with precisely that question... Good luck!\n"
   ]
  },
  {
   "cell_type": "markdown",
   "id": "dd97255d",
   "metadata": {},
   "source": [
    "#### Read the dataset assets/real_estate.csv and try to visualize the table (★☆☆)"
   ]
  },
  {
   "cell_type": "code",
   "execution_count": 1,
   "id": "4b93d9c8",
   "metadata": {},
   "outputs": [],
   "source": [
    "import numpy as np\n",
    "import pandas as pd"
   ]
  },
  {
   "cell_type": "markdown",
   "id": "40631cd6",
   "metadata": {},
   "source": [
    "#### What is the most expensive home in the dataset? (★☆☆)"
   ]
  },
  {
   "cell_type": "code",
   "execution_count": 3,
   "id": "8a758bcf",
   "metadata": {},
   "outputs": [
    {
     "data": {
      "text/html": [
       "<div>\n",
       "<style scoped>\n",
       "    .dataframe tbody tr th:only-of-type {\n",
       "        vertical-align: middle;\n",
       "    }\n",
       "\n",
       "    .dataframe tbody tr th {\n",
       "        vertical-align: top;\n",
       "    }\n",
       "\n",
       "    .dataframe thead th {\n",
       "        text-align: right;\n",
       "    }\n",
       "</style>\n",
       "<table border=\"1\" class=\"dataframe\">\n",
       "  <thead>\n",
       "    <tr style=\"text-align: right;\">\n",
       "      <th></th>\n",
       "      <th>id_realEstates</th>\n",
       "      <th>isNew</th>\n",
       "      <th>realEstate_name</th>\n",
       "      <th>phone_realEstate</th>\n",
       "      <th>url_inmueble</th>\n",
       "      <th>rooms</th>\n",
       "      <th>bathrooms</th>\n",
       "      <th>surface</th>\n",
       "      <th>price</th>\n",
       "      <th>date</th>\n",
       "      <th>...</th>\n",
       "      <th>level4Id</th>\n",
       "      <th>level5Id</th>\n",
       "      <th>level6Id</th>\n",
       "      <th>level7Id</th>\n",
       "      <th>level8Id</th>\n",
       "      <th>accuracy</th>\n",
       "      <th>latitude</th>\n",
       "      <th>longitude</th>\n",
       "      <th>zipCode</th>\n",
       "      <th>customZone</th>\n",
       "    </tr>\n",
       "  </thead>\n",
       "  <tbody>\n",
       "    <tr>\n",
       "      <th>1</th>\n",
       "      <td>153771986</td>\n",
       "      <td>False</td>\n",
       "      <td>ferrari 57 inmobiliaria</td>\n",
       "      <td>912177526.0</td>\n",
       "      <td>https://www.fotocasa.es/es/comprar/vivienda/ma...</td>\n",
       "      <td>3.0</td>\n",
       "      <td>2.0</td>\n",
       "      <td>103.0</td>\n",
       "      <td>195000</td>\n",
       "      <td>2019-12-28T18:27:15.9975027Z</td>\n",
       "      <td>...</td>\n",
       "      <td>0</td>\n",
       "      <td>0</td>\n",
       "      <td>0</td>\n",
       "      <td>0</td>\n",
       "      <td>0</td>\n",
       "      <td>0</td>\n",
       "      <td>40,2948276786438</td>\n",
       "      <td>-3,44402412135624</td>\n",
       "      <td>NaN</td>\n",
       "      <td>NaN</td>\n",
       "    </tr>\n",
       "    <tr>\n",
       "      <th>2</th>\n",
       "      <td>153867863</td>\n",
       "      <td>False</td>\n",
       "      <td>tecnocasa fuenlabrada ferrocarril</td>\n",
       "      <td>916358736.0</td>\n",
       "      <td>https://www.fotocasa.es/es/comprar/vivienda/ma...</td>\n",
       "      <td>3.0</td>\n",
       "      <td>1.0</td>\n",
       "      <td>NaN</td>\n",
       "      <td>89000</td>\n",
       "      <td>2019-12-28T18:27:15.9975027Z</td>\n",
       "      <td>...</td>\n",
       "      <td>0</td>\n",
       "      <td>0</td>\n",
       "      <td>0</td>\n",
       "      <td>0</td>\n",
       "      <td>0</td>\n",
       "      <td>1</td>\n",
       "      <td>40,28674</td>\n",
       "      <td>-3,79351</td>\n",
       "      <td>NaN</td>\n",
       "      <td>NaN</td>\n",
       "    </tr>\n",
       "    <tr>\n",
       "      <th>3</th>\n",
       "      <td>153430440</td>\n",
       "      <td>False</td>\n",
       "      <td>look find boadilla</td>\n",
       "      <td>916350408.0</td>\n",
       "      <td>https://www.fotocasa.es/es/comprar/vivienda/ma...</td>\n",
       "      <td>2.0</td>\n",
       "      <td>2.0</td>\n",
       "      <td>99.0</td>\n",
       "      <td>390000</td>\n",
       "      <td>2019-12-28T18:27:15.9975027Z</td>\n",
       "      <td>...</td>\n",
       "      <td>0</td>\n",
       "      <td>0</td>\n",
       "      <td>0</td>\n",
       "      <td>0</td>\n",
       "      <td>0</td>\n",
       "      <td>0</td>\n",
       "      <td>40,4115646786438</td>\n",
       "      <td>-3,90662252135624</td>\n",
       "      <td>NaN</td>\n",
       "      <td>NaN</td>\n",
       "    </tr>\n",
       "    <tr>\n",
       "      <th>4</th>\n",
       "      <td>152776331</td>\n",
       "      <td>False</td>\n",
       "      <td>tecnocasa fuenlabrada ferrocarril</td>\n",
       "      <td>916358736.0</td>\n",
       "      <td>https://www.fotocasa.es/es/comprar/vivienda/ma...</td>\n",
       "      <td>3.0</td>\n",
       "      <td>1.0</td>\n",
       "      <td>86.0</td>\n",
       "      <td>89000</td>\n",
       "      <td>2019-12-28T18:27:15.9975027Z</td>\n",
       "      <td>...</td>\n",
       "      <td>0</td>\n",
       "      <td>0</td>\n",
       "      <td>0</td>\n",
       "      <td>0</td>\n",
       "      <td>0</td>\n",
       "      <td>0</td>\n",
       "      <td>40,2853785786438</td>\n",
       "      <td>-3,79508142135624</td>\n",
       "      <td>NaN</td>\n",
       "      <td>NaN</td>\n",
       "    </tr>\n",
       "    <tr>\n",
       "      <th>5</th>\n",
       "      <td>153180188</td>\n",
       "      <td>False</td>\n",
       "      <td>ferrari 57 inmobiliaria</td>\n",
       "      <td>912177526.0</td>\n",
       "      <td>https://www.fotocasa.es/es/comprar/vivienda/ma...</td>\n",
       "      <td>2.0</td>\n",
       "      <td>2.0</td>\n",
       "      <td>106.0</td>\n",
       "      <td>172000</td>\n",
       "      <td>2019-12-28T18:27:15.9975027Z</td>\n",
       "      <td>...</td>\n",
       "      <td>0</td>\n",
       "      <td>0</td>\n",
       "      <td>0</td>\n",
       "      <td>0</td>\n",
       "      <td>0</td>\n",
       "      <td>0</td>\n",
       "      <td>40,2998774864376</td>\n",
       "      <td>-3,45226301356237</td>\n",
       "      <td>NaN</td>\n",
       "      <td>NaN</td>\n",
       "    </tr>\n",
       "  </tbody>\n",
       "</table>\n",
       "<p>5 rows × 36 columns</p>\n",
       "</div>"
      ],
      "text/plain": [
       "   id_realEstates  isNew                    realEstate_name  phone_realEstate  \\\n",
       "1       153771986  False            ferrari 57 inmobiliaria       912177526.0   \n",
       "2       153867863  False  tecnocasa fuenlabrada ferrocarril       916358736.0   \n",
       "3       153430440  False                 look find boadilla       916350408.0   \n",
       "4       152776331  False  tecnocasa fuenlabrada ferrocarril       916358736.0   \n",
       "5       153180188  False            ferrari 57 inmobiliaria       912177526.0   \n",
       "\n",
       "                                        url_inmueble  rooms  bathrooms  \\\n",
       "1  https://www.fotocasa.es/es/comprar/vivienda/ma...    3.0        2.0   \n",
       "2  https://www.fotocasa.es/es/comprar/vivienda/ma...    3.0        1.0   \n",
       "3  https://www.fotocasa.es/es/comprar/vivienda/ma...    2.0        2.0   \n",
       "4  https://www.fotocasa.es/es/comprar/vivienda/ma...    3.0        1.0   \n",
       "5  https://www.fotocasa.es/es/comprar/vivienda/ma...    2.0        2.0   \n",
       "\n",
       "   surface   price                          date  ... level4Id level5Id  \\\n",
       "1    103.0  195000  2019-12-28T18:27:15.9975027Z  ...        0        0   \n",
       "2      NaN   89000  2019-12-28T18:27:15.9975027Z  ...        0        0   \n",
       "3     99.0  390000  2019-12-28T18:27:15.9975027Z  ...        0        0   \n",
       "4     86.0   89000  2019-12-28T18:27:15.9975027Z  ...        0        0   \n",
       "5    106.0  172000  2019-12-28T18:27:15.9975027Z  ...        0        0   \n",
       "\n",
       "  level6Id level7Id level8Id accuracy          latitude          longitude  \\\n",
       "1        0        0        0        0  40,2948276786438  -3,44402412135624   \n",
       "2        0        0        0        1          40,28674           -3,79351   \n",
       "3        0        0        0        0  40,4115646786438  -3,90662252135624   \n",
       "4        0        0        0        0  40,2853785786438  -3,79508142135624   \n",
       "5        0        0        0        0  40,2998774864376  -3,45226301356237   \n",
       "\n",
       "  zipCode customZone  \n",
       "1     NaN        NaN  \n",
       "2     NaN        NaN  \n",
       "3     NaN        NaN  \n",
       "4     NaN        NaN  \n",
       "5     NaN        NaN  \n",
       "\n",
       "[5 rows x 36 columns]"
      ]
     },
     "metadata": {},
     "output_type": "display_data"
    },
    {
     "name": "stdout",
     "output_type": "stream",
     "text": [
      "La propiedad mas cara es 13111 con un precio de 8500000\n"
     ]
    }
   ],
   "source": [
    "df_datos=pd.read_csv(\"assets/real_estate.csv\",sep=\";\",index_col=0)\n",
    "display(df_datos.head())\n",
    "columna = df_datos['price']\n",
    "max_price = columna.max()\n",
    "max_index = columna.idxmax()\n",
    "#print(dato_max)\n",
    "#print(indice)\n",
    "print(f'La propiedad mas cara es {max_index} con un precio de {max_price}')"
   ]
  },
  {
   "cell_type": "markdown",
   "id": "0a708990",
   "metadata": {},
   "source": [
    "#### What is cheapest home in the dataset? (★☆☆)"
   ]
  },
  {
   "cell_type": "code",
   "execution_count": 15,
   "id": "477e01f4",
   "metadata": {},
   "outputs": [
    {
     "name": "stdout",
     "output_type": "stream",
     "text": [
      "La propiedad mas barata es 7492 con un precio de 600\n"
     ]
    }
   ],
   "source": [
    "# Ahora trato de calcular la propiedad mas barata\n",
    "# Para eso saco los datos de la propiedad que valen 0\n",
    "df_mayor_cero=df_datos[df_datos['price']>0.0]\n",
    "columna = df_mayor_cero['price']\n",
    "min_price = columna.min()\n",
    "min_index = columna.idxmin()\n",
    "#print(dato_max)\n",
    "#print(indice)\n",
    "print(f'La propiedad mas barata es {min_index} con un precio de {min_price}')\n"
   ]
  },
  {
   "cell_type": "code",
   "execution_count": 16,
   "id": "c3514840",
   "metadata": {},
   "outputs": [
    {
     "data": {
      "text/plain": [
       "count    1.527500e+04\n",
       "mean     4.791784e+05\n",
       "std      5.916957e+05\n",
       "min      6.000000e+02\n",
       "25%      1.699000e+05\n",
       "50%      2.820480e+05\n",
       "75%      5.400000e+05\n",
       "max      8.500000e+06\n",
       "Name: price, dtype: float64"
      ]
     },
     "execution_count": 16,
     "metadata": {},
     "output_type": "execute_result"
    }
   ],
   "source": [
    "# Haciendo con describe\n",
    "df_mayor_cero['price'].describe()"
   ]
  },
  {
   "cell_type": "markdown",
   "id": "0b16cd77",
   "metadata": {},
   "source": [
    "#### What is the biggest and the smallest home in the dataset? (★☆☆)"
   ]
  },
  {
   "cell_type": "code",
   "execution_count": 17,
   "id": "4d9b5975",
   "metadata": {},
   "outputs": [
    {
     "name": "stdout",
     "output_type": "stream",
     "text": [
      "La propiedad mas grande es 6795 con un tamaño de 249000.0\n",
      "La propiedad mas pequeña es 499 con un tamaño de 15.0\n"
     ]
    }
   ],
   "source": [
    "dato_max=df_datos['surface'].max()\n",
    "indice = df_datos['surface'].idxmax()\n",
    "#print(dato_max)\n",
    "#print(indice)\n",
    "print(f'La propiedad mas grande es {indice} con un tamaño de {dato_max}')\n",
    "# Ahora trato de calcular la propiedad mas pequeña\n",
    "\n",
    "dato_min=df_datos['surface'].min()\n",
    "indice_min = df_datos['surface'].idxmin()\n",
    "\n",
    "\n",
    "print(f'La propiedad mas pequeña es {indice_min} con un tamaño de {dato_min}')"
   ]
  },
  {
   "cell_type": "markdown",
   "id": "782d4c77",
   "metadata": {},
   "source": [
    "#### How many populations (level5) the dataset contains? (★☆☆)"
   ]
  },
  {
   "cell_type": "code",
   "execution_count": 20,
   "id": "5dbe1a08",
   "metadata": {},
   "outputs": [
    {
     "name": "stdout",
     "output_type": "stream",
     "text": [
      "168\n"
     ]
    }
   ],
   "source": [
    "# Son cuantos son los unicos datos en esa muestra\n",
    "print(df_datos['level5'].unique().size)"
   ]
  },
  {
   "cell_type": "markdown",
   "id": "48d48f01",
   "metadata": {},
   "source": [
    "#### Does the dataset contain NAs? (★☆☆)\n"
   ]
  },
  {
   "cell_type": "code",
   "execution_count": 7,
   "id": "3ed233e7",
   "metadata": {},
   "outputs": [
    {
     "data": {
      "text/plain": [
       "True"
      ]
     },
     "execution_count": 7,
     "metadata": {},
     "output_type": "execute_result"
    }
   ],
   "source": [
    "df_datos.isnull().values.any()"
   ]
  },
  {
   "cell_type": "markdown",
   "id": "4fa39382",
   "metadata": {},
   "source": [
    "#### Delete the NAs of the dataset, if applicable (★★☆)"
   ]
  },
  {
   "cell_type": "code",
   "execution_count": null,
   "id": "c97757ec",
   "metadata": {},
   "outputs": [],
   "source": [
    "# No es posible borrar todos los NAs ya que borraria todos los datos del data set\n",
    "\n"
   ]
  },
  {
   "cell_type": "markdown",
   "id": "0e5f76de",
   "metadata": {},
   "source": [
    "#### What is the mean of prices in the population (level5) of \"Arroyomolinos (Madrid)\"? (★★☆)"
   ]
  },
  {
   "cell_type": "code",
   "execution_count": 26,
   "id": "327f7adb",
   "metadata": {},
   "outputs": [
    {
     "name": "stdout",
     "output_type": "stream",
     "text": [
      "El valor promedio solicitado es 294541.59854014596\n"
     ]
    }
   ],
   "source": [
    "#df_datos['level5'].unique()\n",
    "filter_df= df_datos[df_datos['level5']=='Arroyomolinos (Madrid)']\n",
    "print(\"El valor promedio solicitado es\",filter_df['price'].mean())\n",
    "\n"
   ]
  },
  {
   "cell_type": "markdown",
   "id": "89b548e3",
   "metadata": {},
   "source": [
    "#### Plot the histogram of prices for the population (level5) of \"Arroyomolinos (Madrid)\" and explain what you observe (★★☆)"
   ]
  },
  {
   "cell_type": "code",
   "execution_count": 27,
   "id": "2ba51bf7",
   "metadata": {},
   "outputs": [
    {
     "data": {
      "image/png": "[encoded data removed]",
      "text/plain": [
       "<Figure size 432x288 with 1 Axes>"
      ]
     },
     "metadata": {
      "needs_background": "light"
     },
     "output_type": "display_data"
    }
   ],
   "source": [
    "import matplotlib.pyplot as plt \n",
    "plt.hist(filter_df['price'])\n",
    "plt.show()"
   ]
  },
  {
   "cell_type": "markdown",
   "id": "c86dc493",
   "metadata": {},
   "source": [
    "#### Now let's work with the \"south belt\" of madrid. Make a subsetting that contains the following populations (level5): \"Fuenlabrada\",\"Leganés\",\"Getafe\",\"Alcorcón\" (★★☆) "
   ]
  },
  {
   "cell_type": "code",
   "execution_count": 30,
   "id": "5280d0cb",
   "metadata": {},
   "outputs": [
    {
     "name": "stdout",
     "output_type": "stream",
     "text": [
      "El filtro aplicado queda        id_realEstates  isNew                            realEstate_name  \\\n",
      "2           153867863  False          tecnocasa fuenlabrada ferrocarril   \n",
      "4           152776331  False          tecnocasa fuenlabrada ferrocarril   \n",
      "86          153152077  False                    sinergical inmobiliaria   \n",
      "95          153995577  False                            viviendas365com   \n",
      "110         153586414  False            area uno asesores inmobiliarios   \n",
      "...               ...    ...                                        ...   \n",
      "15276       153903887  False  aliseda servicios de gestion inmobiliaria   \n",
      "15292       151697757  False                                    unipiso   \n",
      "15306       153902389  False                             jadein ferrero   \n",
      "15323       153871864  False                          gestion comercial   \n",
      "15326       153901467  False                              montehogar 68   \n",
      "\n",
      "       phone_realEstate                                       url_inmueble  \\\n",
      "2           916358736.0  https://www.fotocasa.es/es/comprar/vivienda/ma...   \n",
      "4           916358736.0  https://www.fotocasa.es/es/comprar/vivienda/ma...   \n",
      "86                  NaN  https://www.fotocasa.es/es/comprar/vivienda/le...   \n",
      "95          911226014.0  https://www.fotocasa.es/es/comprar/vivienda/le...   \n",
      "110         912664081.0  https://www.fotocasa.es/es/comprar/vivienda/ma...   \n",
      "...                 ...                                                ...   \n",
      "15276       911368198.0  https://www.fotocasa.es/es/comprar/vivienda/al...   \n",
      "15292       912788631.0  https://www.fotocasa.es/es/comprar/vivienda/al...   \n",
      "15306       914871639.0  https://www.fotocasa.es/es/comprar/vivienda/ma...   \n",
      "15323       911220662.0  https://www.fotocasa.es/es/comprar/vivienda/ma...   \n",
      "15326       911790675.0  https://www.fotocasa.es/es/comprar/vivienda/ma...   \n",
      "\n",
      "       rooms  bathrooms  surface   price                          date  ...  \\\n",
      "2        3.0        1.0      NaN   89000  2019-12-28T18:27:15.9975027Z  ...   \n",
      "4        3.0        1.0     86.0   89000  2019-12-28T18:27:15.9975027Z  ...   \n",
      "86       1.0        1.0     50.0  107000   2019-12-28T18:30:53.960102Z  ...   \n",
      "95       3.0        2.0    120.0  320000   2019-12-28T18:30:53.960102Z  ...   \n",
      "110      3.0        3.0    142.0  425000  2019-12-28T18:32:32.5337942Z  ...   \n",
      "...      ...        ...      ...     ...                           ...  ...   \n",
      "15276    3.0        1.0     78.0  138000          2019-12-17T19:02:00Z  ...   \n",
      "15292    3.0        2.0    110.0  279000          2019-12-17T18:57:00Z  ...   \n",
      "15306    3.0        2.0     85.0  170000          2019-12-17T18:43:00Z  ...   \n",
      "15323    3.0        1.0     91.0  112000          2019-12-17T18:25:00Z  ...   \n",
      "15326    2.0        2.0     99.0  215000          2019-12-17T18:24:00Z  ...   \n",
      "\n",
      "      level4Id level5Id level6Id level7Id level8Id accuracy          latitude  \\\n",
      "2            0        0        0        0        0        1          40,28674   \n",
      "4            0        0        0        0        0        0  40,2853785786438   \n",
      "86           0        0        0        0        0        1          40,35059   \n",
      "95           0        0        0        0        0        0          40,31933   \n",
      "110          0        0        0        0        0        0        40,3313411   \n",
      "...        ...      ...      ...      ...      ...      ...               ...   \n",
      "15276        0        0        0        0        0        1          40,31381   \n",
      "15292        0        0        0        0        0        0        40,3259051   \n",
      "15306        0        0        0        0        0        0        40,2882193   \n",
      "15323        0        0        0        0        0        0          40,28282   \n",
      "15326        0        0        0        0        0        1          40,28062   \n",
      "\n",
      "               longitude zipCode customZone  \n",
      "2               -3,79351     NaN        NaN  \n",
      "4      -3,79508142135624     NaN        NaN  \n",
      "86              -3,82693     NaN        NaN  \n",
      "95              -3,77574     NaN        NaN  \n",
      "110           -3,8313868     NaN        NaN  \n",
      "...                  ...     ...        ...  \n",
      "15276           -3,83733     NaN        NaN  \n",
      "15292           -3,76318     NaN        NaN  \n",
      "15306         -3,8098617     NaN        NaN  \n",
      "15323           -3,78892     NaN        NaN  \n",
      "15326           -3,79869     NaN        NaN  \n",
      "\n",
      "[907 rows x 36 columns]\n"
     ]
    }
   ],
   "source": [
    "filter_southBelt= df_datos[df_datos['level5'].isin((\"Fuenlabrada\",\"Leganés\",\"Getafe\",\"Alcorcón\"))]\n",
    "print(\"El filtro aplicado queda\",filter_southBelt)"
   ]
  },
  {
   "cell_type": "markdown",
   "id": "090a6a3e",
   "metadata": {},
   "source": [
    "#### Make a bar plot of the median of prices (★★★) "
   ]
  },
  {
   "cell_type": "code",
   "execution_count": 33,
   "id": "68aec11c",
   "metadata": {},
   "outputs": [
    {
     "data": {
      "image/png": "[encoded data removed]",
      "text/plain": [
       "<Figure size 432x288 with 1 Axes>"
      ]
     },
     "metadata": {
      "needs_background": "light"
     },
     "output_type": "display_data"
    }
   ],
   "source": [
    "\n",
    "grouped_filtered_data_frame = filter_southBelt.groupby('level5').median()\n",
    "keys = grouped_filtered_data_frame.index.values.tolist()\n",
    "values = grouped_filtered_data_frame['price'].tolist()\n",
    "plt.bar(keys, values)\n",
    "plt.show()"
   ]
  },
  {
   "cell_type": "markdown",
   "id": "18f67373",
   "metadata": {},
   "source": [
    "#### Calculate the sample mean and variance of the variables: price, rooms, surface area and bathrooms (★★★) "
   ]
  },
  {
   "cell_type": "code",
   "execution_count": null,
   "id": "8d068061",
   "metadata": {},
   "outputs": [],
   "source": []
  },
  {
   "cell_type": "markdown",
   "id": "95cfde61",
   "metadata": {},
   "source": [
    "#### What is the most expensive home of each population? (★★☆) "
   ]
  },
  {
   "cell_type": "code",
   "execution_count": null,
   "id": "1c29f78c",
   "metadata": {},
   "outputs": [],
   "source": []
  },
  {
   "cell_type": "markdown",
   "id": "ea67579b",
   "metadata": {},
   "source": [
    "#### Normalize the variable of prices for each population and plot the 4 histograms in the same plot (★★★) "
   ]
  },
  {
   "cell_type": "code",
   "execution_count": null,
   "id": "385ad99c",
   "metadata": {},
   "outputs": [],
   "source": []
  },
  {
   "cell_type": "markdown",
   "id": "2ec1bd5c",
   "metadata": {},
   "source": [
    "#### Make a plot of the coordinates (lat and long) of the south belt of Madrid by color of each population (★★★★) \n",
    "This is a extremely hard exercise and we highly recommend to do it at the end of everything"
   ]
  },
  {
   "cell_type": "code",
   "execution_count": null,
   "id": "312aac99",
   "metadata": {},
   "outputs": [],
   "source": [
    "# Run in console the following command before run the rest of code:\n",
    "# jupyter nbextension enable --py --sys-prefix ipyleaflet\n",
    "\n",
    "from ipyleaflet import Map, basemaps\n",
    "\n",
    "# Map centred on (60 degrees latitude et -2.2 degrees longitude)\n",
    "# Latitude, longitude\n",
    "map = Map(center = (60, -2.2), zoom = 2, min_zoom = 1, max_zoom = 20, \n",
    "    basemap=basemaps.Stamen.Terrain)\n",
    "map"
   ]
  },
  {
   "cell_type": "code",
   "execution_count": null,
   "id": "f7931ec0",
   "metadata": {},
   "outputs": [],
   "source": [
    "## HERE: plot the coordinates of the estates\n",
    "\n",
    "## PUT HERE YOUR CODE:\n"
   ]
  },
  {
   "cell_type": "markdown",
   "id": "b22874b7",
   "metadata": {},
   "source": [
    "#### What can you say about the price per square meter between the towns of Getafe and Alcorcón?"
   ]
  },
  {
   "cell_type": "code",
   "execution_count": null,
   "id": "e0ef506b",
   "metadata": {},
   "outputs": [],
   "source": []
  },
  {
   "cell_type": "markdown",
   "id": "a4376b3f",
   "metadata": {},
   "source": [
    "#### Reload the data, is the average of \"Valdemorillo\" and \"Galapagar\" prices the same?"
   ]
  },
  {
   "cell_type": "code",
   "execution_count": null,
   "id": "37dbaf65",
   "metadata": {},
   "outputs": [],
   "source": []
  },
  {
   "cell_type": "markdown",
   "id": "b6af45ec",
   "metadata": {},
   "source": [
    "#### What happens if we do the same analysis for price/m2 (★★☆) "
   ]
  },
  {
   "cell_type": "code",
   "execution_count": null,
   "id": "8231d73e",
   "metadata": {},
   "outputs": [],
   "source": []
  },
  {
   "cell_type": "markdown",
   "id": "2d40e202",
   "metadata": {},
   "source": [
    "#### Could you say there is a relation between surface and price? (★★☆) \n",
    "Hint: make a scatter plot."
   ]
  },
  {
   "cell_type": "code",
   "execution_count": null,
   "id": "405462e1",
   "metadata": {},
   "outputs": [],
   "source": []
  },
  {
   "cell_type": "markdown",
   "id": "3275db77",
   "metadata": {},
   "source": [
    "#### Make the same plot for 4 different populations (level5) and rearrange them on the same graph? (★★☆) \n",
    "Hint: make a scatter plot of each population using subplots."
   ]
  },
  {
   "cell_type": "code",
   "execution_count": null,
   "id": "e08292ff",
   "metadata": {},
   "outputs": [],
   "source": []
  },
  {
   "cell_type": "markdown",
   "id": "522c6bd9",
   "metadata": {},
   "source": [
    "#### How many  real estate agencies the dataset contains? (★★☆) "
   ]
  },
  {
   "cell_type": "code",
   "execution_count": null,
   "id": "014ec6c8",
   "metadata": {},
   "outputs": [],
   "source": []
  },
  {
   "cell_type": "markdown",
   "id": "899a101e",
   "metadata": {},
   "source": [
    "#### What is the population (level 5) that contains the most houses? (★★☆) "
   ]
  },
  {
   "cell_type": "code",
   "execution_count": null,
   "id": "9e8b34ba",
   "metadata": {},
   "outputs": [],
   "source": []
  }
 ],
 "metadata": {
  "kernelspec": {
   "display_name": "Python 3.8.13 64-bit ('3.8.13')",
   "language": "python",
   "name": "python3"
  },
  "language_info": {
   "codemirror_mode": {
    "name": "ipython",
    "version": 3
   },
   "file_extension": ".py",
   "mimetype": "text/x-python",
   "name": "python",
   "nbconvert_exporter": "python",
   "pygments_lexer": "ipython3",
   "version": "3.8.13"
  },
  "vscode": {
   "interpreter": {
    "hash": "110cc1dee26208153f2972f08a2ad52b6a56238dc66d48e87fb757ef2996db56"
   }
  }
 },
 "nbformat": 4,
 "nbformat_minor": 5
}
