{
 "cells": [
  {
   "cell_type": "markdown",
   "id": "c4e52ee5",
   "metadata": {},
   "source": [
    "## The dataset\n",
    "\n",
    "This is a real dataset and it was downloaded using web scraping techniques. The data contains registers from fotocasa which is one of the most popular websites of real estate in Spain. Please, do not do this (web scraping) unless it is for academic purposes.\n",
    "\n",
    "The dataset was downloaded a few years ago by Henry Navarro and In no case were economic returns obtained from it.\n",
    "\n",
    "It contains thousands of data from real homes published on the web www.fotocasa.com. Your goal is to extract as much information as possible with the knowledge you have so far about data science, for example what is the most expensive home in the entire dataset?\n",
    "\n",
    "Let's start with precisely that question... Good luck!\n"
   ]
  },
  {
   "cell_type": "markdown",
   "id": "dd97255d",
   "metadata": {},
   "source": [
    "#### Read the dataset assets/real_estate.csv and try to visualize the table (★☆☆)"
   ]
  },
  {
   "cell_type": "code",
   "execution_count": 9,
   "id": "4b93d9c8",
   "metadata": {},
   "outputs": [],
   "source": [
    "import numpy as np\n",
    "import pandas as pd"
   ]
  },
  {
   "cell_type": "markdown",
   "id": "40631cd6",
   "metadata": {},
   "source": [
    "#### What is the most expensive home in the dataset? (★☆☆)"
   ]
  },
  {
   "cell_type": "code",
   "execution_count": 10,
   "id": "8a758bcf",
   "metadata": {},
   "outputs": [
    {
     "data": {
      "text/html": [
       "<div>\n",
       "<style scoped>\n",
       "    .dataframe tbody tr th:only-of-type {\n",
       "        vertical-align: middle;\n",
       "    }\n",
       "\n",
       "    .dataframe tbody tr th {\n",
       "        vertical-align: top;\n",
       "    }\n",
       "\n",
       "    .dataframe thead th {\n",
       "        text-align: right;\n",
       "    }\n",
       "</style>\n",
       "<table border=\"1\" class=\"dataframe\">\n",
       "  <thead>\n",
       "    <tr style=\"text-align: right;\">\n",
       "      <th></th>\n",
       "      <th>id_realEstates</th>\n",
       "      <th>isNew</th>\n",
       "      <th>realEstate_name</th>\n",
       "      <th>phone_realEstate</th>\n",
       "      <th>url_inmueble</th>\n",
       "      <th>rooms</th>\n",
       "      <th>bathrooms</th>\n",
       "      <th>surface</th>\n",
       "      <th>price</th>\n",
       "      <th>date</th>\n",
       "      <th>...</th>\n",
       "      <th>level4Id</th>\n",
       "      <th>level5Id</th>\n",
       "      <th>level6Id</th>\n",
       "      <th>level7Id</th>\n",
       "      <th>level8Id</th>\n",
       "      <th>accuracy</th>\n",
       "      <th>latitude</th>\n",
       "      <th>longitude</th>\n",
       "      <th>zipCode</th>\n",
       "      <th>customZone</th>\n",
       "    </tr>\n",
       "  </thead>\n",
       "  <tbody>\n",
       "    <tr>\n",
       "      <th>1</th>\n",
       "      <td>153771986</td>\n",
       "      <td>False</td>\n",
       "      <td>ferrari 57 inmobiliaria</td>\n",
       "      <td>912177526.0</td>\n",
       "      <td>https://www.fotocasa.es/es/comprar/vivienda/ma...</td>\n",
       "      <td>3.0</td>\n",
       "      <td>2.0</td>\n",
       "      <td>103.0</td>\n",
       "      <td>195000</td>\n",
       "      <td>2019-12-28T18:27:15.9975027Z</td>\n",
       "      <td>...</td>\n",
       "      <td>0</td>\n",
       "      <td>0</td>\n",
       "      <td>0</td>\n",
       "      <td>0</td>\n",
       "      <td>0</td>\n",
       "      <td>0</td>\n",
       "      <td>40,2948276786438</td>\n",
       "      <td>-3,44402412135624</td>\n",
       "      <td>NaN</td>\n",
       "      <td>NaN</td>\n",
       "    </tr>\n",
       "    <tr>\n",
       "      <th>2</th>\n",
       "      <td>153867863</td>\n",
       "      <td>False</td>\n",
       "      <td>tecnocasa fuenlabrada ferrocarril</td>\n",
       "      <td>916358736.0</td>\n",
       "      <td>https://www.fotocasa.es/es/comprar/vivienda/ma...</td>\n",
       "      <td>3.0</td>\n",
       "      <td>1.0</td>\n",
       "      <td>NaN</td>\n",
       "      <td>89000</td>\n",
       "      <td>2019-12-28T18:27:15.9975027Z</td>\n",
       "      <td>...</td>\n",
       "      <td>0</td>\n",
       "      <td>0</td>\n",
       "      <td>0</td>\n",
       "      <td>0</td>\n",
       "      <td>0</td>\n",
       "      <td>1</td>\n",
       "      <td>40,28674</td>\n",
       "      <td>-3,79351</td>\n",
       "      <td>NaN</td>\n",
       "      <td>NaN</td>\n",
       "    </tr>\n",
       "    <tr>\n",
       "      <th>3</th>\n",
       "      <td>153430440</td>\n",
       "      <td>False</td>\n",
       "      <td>look find boadilla</td>\n",
       "      <td>916350408.0</td>\n",
       "      <td>https://www.fotocasa.es/es/comprar/vivienda/ma...</td>\n",
       "      <td>2.0</td>\n",
       "      <td>2.0</td>\n",
       "      <td>99.0</td>\n",
       "      <td>390000</td>\n",
       "      <td>2019-12-28T18:27:15.9975027Z</td>\n",
       "      <td>...</td>\n",
       "      <td>0</td>\n",
       "      <td>0</td>\n",
       "      <td>0</td>\n",
       "      <td>0</td>\n",
       "      <td>0</td>\n",
       "      <td>0</td>\n",
       "      <td>40,4115646786438</td>\n",
       "      <td>-3,90662252135624</td>\n",
       "      <td>NaN</td>\n",
       "      <td>NaN</td>\n",
       "    </tr>\n",
       "    <tr>\n",
       "      <th>4</th>\n",
       "      <td>152776331</td>\n",
       "      <td>False</td>\n",
       "      <td>tecnocasa fuenlabrada ferrocarril</td>\n",
       "      <td>916358736.0</td>\n",
       "      <td>https://www.fotocasa.es/es/comprar/vivienda/ma...</td>\n",
       "      <td>3.0</td>\n",
       "      <td>1.0</td>\n",
       "      <td>86.0</td>\n",
       "      <td>89000</td>\n",
       "      <td>2019-12-28T18:27:15.9975027Z</td>\n",
       "      <td>...</td>\n",
       "      <td>0</td>\n",
       "      <td>0</td>\n",
       "      <td>0</td>\n",
       "      <td>0</td>\n",
       "      <td>0</td>\n",
       "      <td>0</td>\n",
       "      <td>40,2853785786438</td>\n",
       "      <td>-3,79508142135624</td>\n",
       "      <td>NaN</td>\n",
       "      <td>NaN</td>\n",
       "    </tr>\n",
       "    <tr>\n",
       "      <th>5</th>\n",
       "      <td>153180188</td>\n",
       "      <td>False</td>\n",
       "      <td>ferrari 57 inmobiliaria</td>\n",
       "      <td>912177526.0</td>\n",
       "      <td>https://www.fotocasa.es/es/comprar/vivienda/ma...</td>\n",
       "      <td>2.0</td>\n",
       "      <td>2.0</td>\n",
       "      <td>106.0</td>\n",
       "      <td>172000</td>\n",
       "      <td>2019-12-28T18:27:15.9975027Z</td>\n",
       "      <td>...</td>\n",
       "      <td>0</td>\n",
       "      <td>0</td>\n",
       "      <td>0</td>\n",
       "      <td>0</td>\n",
       "      <td>0</td>\n",
       "      <td>0</td>\n",
       "      <td>40,2998774864376</td>\n",
       "      <td>-3,45226301356237</td>\n",
       "      <td>NaN</td>\n",
       "      <td>NaN</td>\n",
       "    </tr>\n",
       "  </tbody>\n",
       "</table>\n",
       "<p>5 rows × 36 columns</p>\n",
       "</div>"
      ],
      "text/plain": [
       "   id_realEstates  isNew                    realEstate_name  phone_realEstate  \\\n",
       "1       153771986  False            ferrari 57 inmobiliaria       912177526.0   \n",
       "2       153867863  False  tecnocasa fuenlabrada ferrocarril       916358736.0   \n",
       "3       153430440  False                 look find boadilla       916350408.0   \n",
       "4       152776331  False  tecnocasa fuenlabrada ferrocarril       916358736.0   \n",
       "5       153180188  False            ferrari 57 inmobiliaria       912177526.0   \n",
       "\n",
       "                                        url_inmueble  rooms  bathrooms  \\\n",
       "1  https://www.fotocasa.es/es/comprar/vivienda/ma...    3.0        2.0   \n",
       "2  https://www.fotocasa.es/es/comprar/vivienda/ma...    3.0        1.0   \n",
       "3  https://www.fotocasa.es/es/comprar/vivienda/ma...    2.0        2.0   \n",
       "4  https://www.fotocasa.es/es/comprar/vivienda/ma...    3.0        1.0   \n",
       "5  https://www.fotocasa.es/es/comprar/vivienda/ma...    2.0        2.0   \n",
       "\n",
       "   surface   price                          date  ... level4Id level5Id  \\\n",
       "1    103.0  195000  2019-12-28T18:27:15.9975027Z  ...        0        0   \n",
       "2      NaN   89000  2019-12-28T18:27:15.9975027Z  ...        0        0   \n",
       "3     99.0  390000  2019-12-28T18:27:15.9975027Z  ...        0        0   \n",
       "4     86.0   89000  2019-12-28T18:27:15.9975027Z  ...        0        0   \n",
       "5    106.0  172000  2019-12-28T18:27:15.9975027Z  ...        0        0   \n",
       "\n",
       "  level6Id level7Id level8Id accuracy          latitude          longitude  \\\n",
       "1        0        0        0        0  40,2948276786438  -3,44402412135624   \n",
       "2        0        0        0        1          40,28674           -3,79351   \n",
       "3        0        0        0        0  40,4115646786438  -3,90662252135624   \n",
       "4        0        0        0        0  40,2853785786438  -3,79508142135624   \n",
       "5        0        0        0        0  40,2998774864376  -3,45226301356237   \n",
       "\n",
       "  zipCode customZone  \n",
       "1     NaN        NaN  \n",
       "2     NaN        NaN  \n",
       "3     NaN        NaN  \n",
       "4     NaN        NaN  \n",
       "5     NaN        NaN  \n",
       "\n",
       "[5 rows x 36 columns]"
      ]
     },
     "metadata": {},
     "output_type": "display_data"
    }
   ],
   "source": [
    "df_datos=pd.read_csv(\"assets/real_estate.csv\",sep=\";\",index_col=0)\n",
    "display(df_datos.head())"
   ]
  },
  {
   "cell_type": "markdown",
   "id": "0a708990",
   "metadata": {},
   "source": [
    "#### What is cheapest home in the dataset? (★☆☆)"
   ]
  },
  {
   "cell_type": "code",
   "execution_count": 11,
   "id": "477e01f4",
   "metadata": {},
   "outputs": [
    {
     "name": "stdout",
     "output_type": "stream",
     "text": [
      "<class 'pandas.core.frame.DataFrame'>\n",
      "Int64Index: 15335 entries, 1 to 15335\n",
      "Data columns (total 36 columns):\n",
      " #   Column            Non-Null Count  Dtype  \n",
      "---  ------            --------------  -----  \n",
      " 0   id_realEstates    15335 non-null  int64  \n",
      " 1   isNew             15335 non-null  bool   \n",
      " 2   realEstate_name   15325 non-null  object \n",
      " 3   phone_realEstate  14541 non-null  float64\n",
      " 4   url_inmueble      15335 non-null  object \n",
      " 5   rooms             14982 non-null  float64\n",
      " 6   bathrooms         14990 non-null  float64\n",
      " 7   surface           14085 non-null  float64\n",
      " 8   price             15335 non-null  int64  \n",
      " 9   date              15335 non-null  object \n",
      " 10  description       15193 non-null  object \n",
      " 11  address           15335 non-null  object \n",
      " 12  country           15335 non-null  object \n",
      " 13  level1            15335 non-null  object \n",
      " 14  level2            15335 non-null  object \n",
      " 15  level3            15335 non-null  object \n",
      " 16  level4            8692 non-null   object \n",
      " 17  level5            15335 non-null  object \n",
      " 18  level6            708 non-null    object \n",
      " 19  level7            13058 non-null  object \n",
      " 20  level8            6756 non-null   object \n",
      " 21  upperLevel        15335 non-null  object \n",
      " 22  countryId         15335 non-null  int64  \n",
      " 23  level1Id          15335 non-null  int64  \n",
      " 24  level2Id          15335 non-null  int64  \n",
      " 25  level3Id          15335 non-null  int64  \n",
      " 26  level4Id          15335 non-null  int64  \n",
      " 27  level5Id          15335 non-null  int64  \n",
      " 28  level6Id          15335 non-null  int64  \n",
      " 29  level7Id          15335 non-null  int64  \n",
      " 30  level8Id          15335 non-null  int64  \n",
      " 31  accuracy          15335 non-null  int64  \n",
      " 32  latitude          15335 non-null  object \n",
      " 33  longitude         15335 non-null  object \n",
      " 34  zipCode           0 non-null      float64\n",
      " 35  customZone        0 non-null      float64\n",
      "dtypes: bool(1), float64(6), int64(12), object(17)\n",
      "memory usage: 4.2+ MB\n",
      "None\n",
      "       id_realEstates  phone_realEstate         rooms     bathrooms  \\\n",
      "count    1.533500e+04      1.454100e+04  14982.000000  14990.000000   \n",
      "mean     1.524371e+08      9.143423e+08      3.231611      2.150233   \n",
      "std      2.277286e+06      7.516036e+06      1.393106      1.292079   \n",
      "min      1.221584e+08      8.762742e+08      1.000000      1.000000   \n",
      "25%      1.519456e+08      9.113649e+08      2.000000      1.000000   \n",
      "50%      1.532413e+08      9.121841e+08      3.000000      2.000000   \n",
      "75%      1.538105e+08      9.148904e+08      4.000000      3.000000   \n",
      "max      1.540033e+08      9.887761e+08     30.000000     20.000000   \n",
      "\n",
      "             surface         price  countryId  level1Id  level2Id  level3Id  \\\n",
      "count   14085.000000  1.533500e+04    15335.0   15335.0   15335.0   15335.0   \n",
      "mean      196.916436  4.773036e+05        0.0       0.0       0.0       0.0   \n",
      "std      2182.758313  5.912942e+05        0.0       0.0       0.0       0.0   \n",
      "min        15.000000  0.000000e+00        0.0       0.0       0.0       0.0   \n",
      "25%        80.000000  1.690000e+05        0.0       0.0       0.0       0.0   \n",
      "50%       114.000000  2.800000e+05        0.0       0.0       0.0       0.0   \n",
      "75%       205.000000  5.400000e+05        0.0       0.0       0.0       0.0   \n",
      "max    249000.000000  8.500000e+06        0.0       0.0       0.0       0.0   \n",
      "\n",
      "       level4Id  level5Id  level6Id  level7Id  level8Id      accuracy  \\\n",
      "count   15335.0   15335.0   15335.0   15335.0   15335.0  15335.000000   \n",
      "mean        0.0       0.0       0.0       0.0       0.0      0.166873   \n",
      "std         0.0       0.0       0.0       0.0       0.0      0.372875   \n",
      "min         0.0       0.0       0.0       0.0       0.0      0.000000   \n",
      "25%         0.0       0.0       0.0       0.0       0.0      0.000000   \n",
      "50%         0.0       0.0       0.0       0.0       0.0      0.000000   \n",
      "75%         0.0       0.0       0.0       0.0       0.0      0.000000   \n",
      "max         0.0       0.0       0.0       0.0       0.0      1.000000   \n",
      "\n",
      "       zipCode  customZone  \n",
      "count      0.0         0.0  \n",
      "mean       NaN         NaN  \n",
      "std        NaN         NaN  \n",
      "min        NaN         NaN  \n",
      "25%        NaN         NaN  \n",
      "50%        NaN         NaN  \n",
      "75%        NaN         NaN  \n",
      "max        NaN         NaN  \n"
     ]
    }
   ],
   "source": [
    "print(df_datos.info())\n",
    "print(df_datos.describe())"
   ]
  },
  {
   "cell_type": "markdown",
   "id": "0b16cd77",
   "metadata": {},
   "source": [
    "#### What is the biggest and the smallest home in the dataset? (★☆☆)"
   ]
  },
  {
   "cell_type": "code",
   "execution_count": 44,
   "id": "4d9b5975",
   "metadata": {},
   "outputs": [
    {
     "data": {
      "text/plain": [
       "'La propiedad mas cara'"
      ]
     },
     "metadata": {},
     "output_type": "display_data"
    },
    {
     "data": {
      "text/html": [
       "<div>\n",
       "<style scoped>\n",
       "    .dataframe tbody tr th:only-of-type {\n",
       "        vertical-align: middle;\n",
       "    }\n",
       "\n",
       "    .dataframe tbody tr th {\n",
       "        vertical-align: top;\n",
       "    }\n",
       "\n",
       "    .dataframe thead th {\n",
       "        text-align: right;\n",
       "    }\n",
       "</style>\n",
       "<table border=\"1\" class=\"dataframe\">\n",
       "  <thead>\n",
       "    <tr style=\"text-align: right;\">\n",
       "      <th></th>\n",
       "      <th>id_realEstates</th>\n",
       "      <th>isNew</th>\n",
       "      <th>realEstate_name</th>\n",
       "      <th>phone_realEstate</th>\n",
       "      <th>url_inmueble</th>\n",
       "      <th>rooms</th>\n",
       "      <th>bathrooms</th>\n",
       "      <th>surface</th>\n",
       "      <th>price</th>\n",
       "      <th>date</th>\n",
       "      <th>...</th>\n",
       "      <th>level4Id</th>\n",
       "      <th>level5Id</th>\n",
       "      <th>level6Id</th>\n",
       "      <th>level7Id</th>\n",
       "      <th>level8Id</th>\n",
       "      <th>accuracy</th>\n",
       "      <th>latitude</th>\n",
       "      <th>longitude</th>\n",
       "      <th>zipCode</th>\n",
       "      <th>customZone</th>\n",
       "    </tr>\n",
       "  </thead>\n",
       "  <tbody>\n",
       "    <tr>\n",
       "      <th>13111</th>\n",
       "      <td>132042636</td>\n",
       "      <td>False</td>\n",
       "      <td>engel volkers torrelodones</td>\n",
       "      <td>911798512.0</td>\n",
       "      <td>https://www.fotocasa.es/es/comprar/vivienda/vi...</td>\n",
       "      <td>19.0</td>\n",
       "      <td>NaN</td>\n",
       "      <td>NaN</td>\n",
       "      <td>8500000</td>\n",
       "      <td>2019-12-19T12:29:00Z</td>\n",
       "      <td>...</td>\n",
       "      <td>0</td>\n",
       "      <td>0</td>\n",
       "      <td>0</td>\n",
       "      <td>0</td>\n",
       "      <td>0</td>\n",
       "      <td>0</td>\n",
       "      <td>40,5830801751782</td>\n",
       "      <td>-4,12951942848611</td>\n",
       "      <td>NaN</td>\n",
       "      <td>NaN</td>\n",
       "    </tr>\n",
       "  </tbody>\n",
       "</table>\n",
       "<p>1 rows × 36 columns</p>\n",
       "</div>"
      ],
      "text/plain": [
       "       id_realEstates  isNew             realEstate_name  phone_realEstate  \\\n",
       "13111       132042636  False  engel volkers torrelodones       911798512.0   \n",
       "\n",
       "                                            url_inmueble  rooms  bathrooms  \\\n",
       "13111  https://www.fotocasa.es/es/comprar/vivienda/vi...   19.0        NaN   \n",
       "\n",
       "       surface    price                  date  ... level4Id level5Id level6Id  \\\n",
       "13111      NaN  8500000  2019-12-19T12:29:00Z  ...        0        0        0   \n",
       "\n",
       "      level7Id level8Id accuracy          latitude          longitude zipCode  \\\n",
       "13111        0        0        0  40,5830801751782  -4,12951942848611     NaN   \n",
       "\n",
       "      customZone  \n",
       "13111        NaN  \n",
       "\n",
       "[1 rows x 36 columns]"
      ]
     },
     "metadata": {},
     "output_type": "display_data"
    },
    {
     "name": "stdout",
     "output_type": "stream",
     "text": [
      "600\n",
      "price    7492\n",
      "dtype: int64\n"
     ]
    },
    {
     "data": {
      "text/plain": [
       "'La propiedad mas barata'"
      ]
     },
     "metadata": {},
     "output_type": "display_data"
    },
    {
     "data": {
      "text/html": [
       "<div>\n",
       "<style scoped>\n",
       "    .dataframe tbody tr th:only-of-type {\n",
       "        vertical-align: middle;\n",
       "    }\n",
       "\n",
       "    .dataframe tbody tr th {\n",
       "        vertical-align: top;\n",
       "    }\n",
       "\n",
       "    .dataframe thead th {\n",
       "        text-align: right;\n",
       "    }\n",
       "</style>\n",
       "<table border=\"1\" class=\"dataframe\">\n",
       "  <thead>\n",
       "    <tr style=\"text-align: right;\">\n",
       "      <th></th>\n",
       "      <th>id_realEstates</th>\n",
       "      <th>isNew</th>\n",
       "      <th>realEstate_name</th>\n",
       "      <th>phone_realEstate</th>\n",
       "      <th>url_inmueble</th>\n",
       "      <th>rooms</th>\n",
       "      <th>bathrooms</th>\n",
       "      <th>surface</th>\n",
       "      <th>price</th>\n",
       "      <th>date</th>\n",
       "      <th>...</th>\n",
       "      <th>level4Id</th>\n",
       "      <th>level5Id</th>\n",
       "      <th>level6Id</th>\n",
       "      <th>level7Id</th>\n",
       "      <th>level8Id</th>\n",
       "      <th>accuracy</th>\n",
       "      <th>latitude</th>\n",
       "      <th>longitude</th>\n",
       "      <th>zipCode</th>\n",
       "      <th>customZone</th>\n",
       "    </tr>\n",
       "  </thead>\n",
       "  <tbody>\n",
       "    <tr>\n",
       "      <th>7492</th>\n",
       "      <td>153977752</td>\n",
       "      <td>False</td>\n",
       "      <td>redpiso coslada</td>\n",
       "      <td>910759552.0</td>\n",
       "      <td>https://www.fotocasa.es/es/comprar/vivienda/ma...</td>\n",
       "      <td>3.0</td>\n",
       "      <td>1.0</td>\n",
       "      <td>80.0</td>\n",
       "      <td>600</td>\n",
       "      <td>2019-12-24T12:56:00Z</td>\n",
       "      <td>...</td>\n",
       "      <td>0</td>\n",
       "      <td>0</td>\n",
       "      <td>0</td>\n",
       "      <td>0</td>\n",
       "      <td>0</td>\n",
       "      <td>0</td>\n",
       "      <td>40,41869</td>\n",
       "      <td>-3,54004</td>\n",
       "      <td>NaN</td>\n",
       "      <td>NaN</td>\n",
       "    </tr>\n",
       "  </tbody>\n",
       "</table>\n",
       "<p>1 rows × 36 columns</p>\n",
       "</div>"
      ],
      "text/plain": [
       "      id_realEstates  isNew  realEstate_name  phone_realEstate  \\\n",
       "7492       153977752  False  redpiso coslada       910759552.0   \n",
       "\n",
       "                                           url_inmueble  rooms  bathrooms  \\\n",
       "7492  https://www.fotocasa.es/es/comprar/vivienda/ma...    3.0        1.0   \n",
       "\n",
       "      surface  price                  date  ... level4Id level5Id level6Id  \\\n",
       "7492     80.0    600  2019-12-24T12:56:00Z  ...        0        0        0   \n",
       "\n",
       "     level7Id level8Id accuracy  latitude longitude zipCode customZone  \n",
       "7492        0        0        0  40,41869  -3,54004     NaN        NaN  \n",
       "\n",
       "[1 rows x 36 columns]"
      ]
     },
     "metadata": {},
     "output_type": "display_data"
    }
   ],
   "source": [
    "dato_max=df_datos['price'].max()\n",
    "indice = df_datos[['price']].idxmax()\n",
    "#print(dato_max)\n",
    "#print(indice)\n",
    "display(\"La propiedad mas cara\",df_datos.iloc[indice-1,])\n",
    "# Ahora trato de calcular la propiedad mas barata\n",
    "# Para eso saco los datos de la propiedad que valen 0\n",
    "df_mayor_cero=df_datos[df_datos['price']>0.0]\n",
    "dato_min=df_mayor_cero['price'].min()\n",
    "print(dato_min)\n",
    "ind_min=df_mayor_cero[['price']].idxmin()\n",
    "print(ind_min)\n",
    "display(\"La propiedad mas barata\",df_mayor_cero.iloc[ind_min-39,])"
   ]
  },
  {
   "cell_type": "markdown",
   "id": "782d4c77",
   "metadata": {},
   "source": [
    "#### How many populations (level5) the dataset contains? (★☆☆)"
   ]
  },
  {
   "cell_type": "code",
   "execution_count": null,
   "id": "5dbe1a08",
   "metadata": {},
   "outputs": [],
   "source": []
  },
  {
   "cell_type": "markdown",
   "id": "48d48f01",
   "metadata": {},
   "source": [
    "#### Does the dataset contain NAs? (★☆☆)\n"
   ]
  },
  {
   "cell_type": "code",
   "execution_count": null,
   "id": "3ed233e7",
   "metadata": {},
   "outputs": [],
   "source": []
  },
  {
   "cell_type": "markdown",
   "id": "4fa39382",
   "metadata": {},
   "source": [
    "#### Delete the NAs of the dataset, if applicable (★★☆)"
   ]
  },
  {
   "cell_type": "code",
   "execution_count": null,
   "id": "c97757ec",
   "metadata": {},
   "outputs": [],
   "source": []
  },
  {
   "cell_type": "markdown",
   "id": "0e5f76de",
   "metadata": {},
   "source": [
    "#### What is the mean of prices in the population (level5) of \"Arroyomolinos (Madrid)\"? (★★☆)"
   ]
  },
  {
   "cell_type": "code",
   "execution_count": null,
   "id": "327f7adb",
   "metadata": {},
   "outputs": [],
   "source": []
  },
  {
   "cell_type": "markdown",
   "id": "89b548e3",
   "metadata": {},
   "source": [
    "#### Plot the histogram of prices for the population (level5) of \"Arroyomolinos (Madrid)\" and explain what you observe (★★☆)"
   ]
  },
  {
   "cell_type": "code",
   "execution_count": null,
   "id": "2ba51bf7",
   "metadata": {},
   "outputs": [],
   "source": []
  },
  {
   "cell_type": "markdown",
   "id": "c86dc493",
   "metadata": {},
   "source": [
    "#### Now let's work with the \"south belt\" of madrid. Make a subsetting that contains the following populations (level5): \"Fuenlabrada\",\"Leganés\",\"Getafe\",\"Alcorcón\" (★★☆) "
   ]
  },
  {
   "cell_type": "code",
   "execution_count": null,
   "id": "5280d0cb",
   "metadata": {},
   "outputs": [],
   "source": []
  },
  {
   "cell_type": "markdown",
   "id": "090a6a3e",
   "metadata": {},
   "source": [
    "#### Make a bar plot of the median of prices (★★★) "
   ]
  },
  {
   "cell_type": "code",
   "execution_count": null,
   "id": "68aec11c",
   "metadata": {},
   "outputs": [],
   "source": []
  },
  {
   "cell_type": "markdown",
   "id": "18f67373",
   "metadata": {},
   "source": [
    "#### Calculate the sample mean and variance of the variables: price, rooms, surface area and bathrooms (★★★) "
   ]
  },
  {
   "cell_type": "code",
   "execution_count": null,
   "id": "8d068061",
   "metadata": {},
   "outputs": [],
   "source": []
  },
  {
   "cell_type": "markdown",
   "id": "95cfde61",
   "metadata": {},
   "source": [
    "#### What is the most expensive home of each population? (★★☆) "
   ]
  },
  {
   "cell_type": "code",
   "execution_count": null,
   "id": "1c29f78c",
   "metadata": {},
   "outputs": [],
   "source": []
  },
  {
   "cell_type": "markdown",
   "id": "ea67579b",
   "metadata": {},
   "source": [
    "#### Normalize the variable of prices for each population and plot the 4 histograms in the same plot (★★★) "
   ]
  },
  {
   "cell_type": "code",
   "execution_count": null,
   "id": "385ad99c",
   "metadata": {},
   "outputs": [],
   "source": []
  },
  {
   "cell_type": "markdown",
   "id": "2ec1bd5c",
   "metadata": {},
   "source": [
    "#### Make a plot of the coordinates (lat and long) of the south belt of Madrid by color of each population (★★★★) \n",
    "This is a extremely hard exercise and we highly recommend to do it at the end of everything"
   ]
  },
  {
   "cell_type": "code",
   "execution_count": null,
   "id": "312aac99",
   "metadata": {},
   "outputs": [],
   "source": [
    "# Run in console the following command before run the rest of code:\n",
    "# jupyter nbextension enable --py --sys-prefix ipyleaflet\n",
    "\n",
    "from ipyleaflet import Map, basemaps\n",
    "\n",
    "# Map centred on (60 degrees latitude et -2.2 degrees longitude)\n",
    "# Latitude, longitude\n",
    "map = Map(center = (60, -2.2), zoom = 2, min_zoom = 1, max_zoom = 20, \n",
    "    basemap=basemaps.Stamen.Terrain)\n",
    "map"
   ]
  },
  {
   "cell_type": "code",
   "execution_count": null,
   "id": "f7931ec0",
   "metadata": {},
   "outputs": [],
   "source": [
    "## HERE: plot the coordinates of the estates\n",
    "\n",
    "## PUT HERE YOUR CODE:\n"
   ]
  },
  {
   "cell_type": "markdown",
   "id": "b22874b7",
   "metadata": {},
   "source": [
    "#### What can you say about the price per square meter between the towns of Getafe and Alcorcón?"
   ]
  },
  {
   "cell_type": "code",
   "execution_count": null,
   "id": "e0ef506b",
   "metadata": {},
   "outputs": [],
   "source": []
  },
  {
   "cell_type": "markdown",
   "id": "a4376b3f",
   "metadata": {},
   "source": [
    "#### Reload the data, is the average of \"Valdemorillo\" and \"Galapagar\" prices the same?"
   ]
  },
  {
   "cell_type": "code",
   "execution_count": null,
   "id": "37dbaf65",
   "metadata": {},
   "outputs": [],
   "source": []
  },
  {
   "cell_type": "markdown",
   "id": "b6af45ec",
   "metadata": {},
   "source": [
    "#### What happens if we do the same analysis for price/m2 (★★☆) "
   ]
  },
  {
   "cell_type": "code",
   "execution_count": null,
   "id": "8231d73e",
   "metadata": {},
   "outputs": [],
   "source": []
  },
  {
   "cell_type": "markdown",
   "id": "2d40e202",
   "metadata": {},
   "source": [
    "#### Could you say there is a relation between surface and price? (★★☆) \n",
    "Hint: make a scatter plot."
   ]
  },
  {
   "cell_type": "code",
   "execution_count": null,
   "id": "405462e1",
   "metadata": {},
   "outputs": [],
   "source": []
  },
  {
   "cell_type": "markdown",
   "id": "3275db77",
   "metadata": {},
   "source": [
    "#### Make the same plot for 4 different populations (level5) and rearrange them on the same graph? (★★☆) \n",
    "Hint: make a scatter plot of each population using subplots."
   ]
  },
  {
   "cell_type": "code",
   "execution_count": null,
   "id": "e08292ff",
   "metadata": {},
   "outputs": [],
   "source": []
  },
  {
   "cell_type": "markdown",
   "id": "522c6bd9",
   "metadata": {},
   "source": [
    "#### How many  real estate agencies the dataset contains? (★★☆) "
   ]
  },
  {
   "cell_type": "code",
   "execution_count": null,
   "id": "014ec6c8",
   "metadata": {},
   "outputs": [],
   "source": []
  },
  {
   "cell_type": "markdown",
   "id": "899a101e",
   "metadata": {},
   "source": [
    "#### What is the population (level 5) that contains the most houses? (★★☆) "
   ]
  },
  {
   "cell_type": "code",
   "execution_count": null,
   "id": "9e8b34ba",
   "metadata": {},
   "outputs": [],
   "source": []
  }
 ],
 "metadata": {
  "kernelspec": {
   "display_name": "Python 3.8.13 64-bit ('3.8.13')",
   "language": "python",
   "name": "python3"
  },
  "language_info": {
   "codemirror_mode": {
    "name": "ipython",
    "version": 3
   },
   "file_extension": ".py",
   "mimetype": "text/x-python",
   "name": "python",
   "nbconvert_exporter": "python",
   "pygments_lexer": "ipython3",
   "version": "3.8.13"
  },
  "vscode": {
   "interpreter": {
    "hash": "110cc1dee26208153f2972f08a2ad52b6a56238dc66d48e87fb757ef2996db56"
   }
  }
 },
 "nbformat": 4,
 "nbformat_minor": 5
}
